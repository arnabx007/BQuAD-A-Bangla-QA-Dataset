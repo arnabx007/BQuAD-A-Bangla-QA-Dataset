{
 "cells": [
  {
   "cell_type": "markdown",
   "metadata": {
    "id": "L-GZwqctfxmU"
   },
   "source": [
    "## This notebook is the modified version of the notebook available here:\n",
    "https://colab.research.google.com/github/huggingface/notebooks/blob/master/examples/question_answering.ipynb"
   ]
  },
  {
   "cell_type": "markdown",
   "metadata": {},
   "source": [
    "## Run this notebook with a GPU enabled Runtime"
   ]
  },
  {
   "cell_type": "markdown",
   "metadata": {
    "id": "K2CAMe85fxmX"
   },
   "source": [
    "## Following packages need to be installed"
   ]
  },
  {
   "cell_type": "code",
   "execution_count": null,
   "metadata": {
    "colab": {
     "base_uri": "https://localhost:8080/"
    },
    "executionInfo": {
     "elapsed": 15523,
     "status": "ok",
     "timestamp": 1631539136389,
     "user": {
      "displayName": "Arnab Saha",
      "photoUrl": "https://lh3.googleusercontent.com/a-/AOh14GiD4TJ-wJULrSHWGnav3lCnSnwAsRA_pWP9O1pJAQ=s64",
      "userId": "06656585353086452374"
     },
     "user_tz": -360
    },
    "id": "NMI_O3ScITmH",
    "outputId": "18d88bb1-4ec2-4727-9ceb-deaf82ebe6fc",
    "scrolled": true
   },
   "outputs": [
    {
     "name": "stdout",
     "output_type": "stream",
     "text": [
      "^C\n"
     ]
    },
    {
     "name": "stderr",
     "output_type": "stream",
     "text": [
      "WARNING: You are using pip version 20.2.1; however, version 21.2.4 is available.\n",
      "You should consider upgrading via the 'c:\\users\\arnab\\documents\\python\\bert_training\\scripts\\python.exe -m pip install --upgrade pip' command.\n"
     ]
    },
    {
     "name": "stdout",
     "output_type": "stream",
     "text": [
      "Requirement already satisfied: datasets in c:\\users\\arnab\\documents\\python\\bert_training\\lib\\site-packages (1.1.3)\n",
      "Requirement already satisfied: xxhash in c:\\users\\arnab\\documents\\python\\bert_training\\lib\\site-packages (from datasets) (2.0.0)\n",
      "Requirement already satisfied: requests>=2.19.0 in c:\\users\\arnab\\documents\\python\\bert_training\\lib\\site-packages (from datasets) (2.25.0)\n",
      "Requirement already satisfied: multiprocess in c:\\users\\arnab\\documents\\python\\bert_training\\lib\\site-packages (from datasets) (0.70.11.1)\n",
      "Requirement already satisfied: dill in c:\\users\\arnab\\documents\\python\\bert_training\\lib\\site-packages (from datasets) (0.3.3)\n",
      "Requirement already satisfied: tqdm<4.50.0,>=4.27 in c:\\users\\arnab\\documents\\python\\bert_training\\lib\\site-packages (from datasets) (4.49.0)\n",
      "Requirement already satisfied: pyarrow>=0.17.1 in c:\\users\\arnab\\documents\\python\\bert_training\\lib\\site-packages (from datasets) (2.0.0)\n",
      "Requirement already satisfied: pandas in c:\\users\\arnab\\documents\\python\\bert_training\\lib\\site-packages (from datasets) (1.1.4)\n",
      "Requirement already satisfied: numpy>=1.17 in c:\\users\\arnab\\documents\\python\\bert_training\\lib\\site-packages (from datasets) (1.18.5)\n",
      "Requirement already satisfied: urllib3<1.27,>=1.21.1 in c:\\users\\arnab\\documents\\python\\bert_training\\lib\\site-packages (from requests>=2.19.0->datasets) (1.26.2)\n",
      "Requirement already satisfied: idna<3,>=2.5 in c:\\users\\arnab\\documents\\python\\bert_training\\lib\\site-packages (from requests>=2.19.0->datasets) (2.10)\n",
      "Requirement already satisfied: certifi>=2017.4.17 in c:\\users\\arnab\\documents\\python\\bert_training\\lib\\site-packages (from requests>=2.19.0->datasets) (2020.11.8)\n",
      "Requirement already satisfied: chardet<4,>=3.0.2 in c:\\users\\arnab\\documents\\python\\bert_training\\lib\\site-packages (from requests>=2.19.0->datasets) (3.0.4)\n",
      "Requirement already satisfied: pytz>=2017.2 in c:\\users\\arnab\\documents\\python\\bert_training\\lib\\site-packages (from pandas->datasets) (2020.4)\n",
      "Requirement already satisfied: python-dateutil>=2.7.3 in c:\\users\\arnab\\documents\\python\\bert_training\\lib\\site-packages (from pandas->datasets) (2.8.1)\n",
      "Requirement already satisfied: six>=1.5 in c:\\users\\arnab\\documents\\python\\bert_training\\lib\\site-packages (from python-dateutil>=2.7.3->pandas->datasets) (1.15.0)\n"
     ]
    }
   ],
   "source": [
    "!pip install datasets\n",
    "!pip install transformers\n",
    "!pip install torch"
   ]
  },
  {
   "cell_type": "code",
   "execution_count": 2,
   "metadata": {
    "colab": {
     "base_uri": "https://localhost:8080/"
    },
    "executionInfo": {
     "elapsed": 542424,
     "status": "ok",
     "timestamp": 1631539678804,
     "user": {
      "displayName": "Arnab Saha",
      "photoUrl": "https://lh3.googleusercontent.com/a-/AOh14GiD4TJ-wJULrSHWGnav3lCnSnwAsRA_pWP9O1pJAQ=s64",
      "userId": "06656585353086452374"
     },
     "user_tz": -360
    },
    "id": "OYZNq77If7kt",
    "outputId": "619606fe-0a0f-4ab8-9999-5cd26579a837"
   },
   "outputs": [
    {
     "name": "stdout",
     "output_type": "stream",
     "text": [
      "Mounted at /content/drive\n"
     ]
    }
   ],
   "source": [
    "from google.colab import drive\n",
    "drive.mount('/content/drive')"
   ]
  },
  {
   "cell_type": "markdown",
   "metadata": {
    "id": "i5JRRbqIfxmY"
   },
   "source": [
    "## bquad The json format is similar to that of squad's.\n",
    "\n",
    "For reference see the explore_bquad.ipynb notebook."
   ]
  },
  {
   "cell_type": "code",
   "execution_count": 3,
   "metadata": {
    "colab": {
     "base_uri": "https://localhost:8080/"
    },
    "executionInfo": {
     "elapsed": 4561,
     "status": "ok",
     "timestamp": 1631539683363,
     "user": {
      "displayName": "Arnab Saha",
      "photoUrl": "https://lh3.googleusercontent.com/a-/AOh14GiD4TJ-wJULrSHWGnav3lCnSnwAsRA_pWP9O1pJAQ=s64",
      "userId": "06656585353086452374"
     },
     "user_tz": -360
    },
    "id": "kzkxp2_xjeZl",
    "outputId": "76cb9787-dbce-424d-a3fe-4a00cd12ec86"
   },
   "outputs": [
    {
     "data": {
      "text/plain": [
       "('4.10.2', '1.11.0', '1.9.0+cu102')"
      ]
     },
     "execution_count": 3,
     "metadata": {},
     "output_type": "execute_result"
    }
   ],
   "source": [
    "import datasets\n",
    "import transformers\n",
    "import torch\n",
    "transformers.__version__, datasets.__version__, torch.__version__"
   ]
  },
  {
   "cell_type": "code",
   "execution_count": 2,
   "metadata": {
    "executionInfo": {
     "elapsed": 3,
     "status": "ok",
     "timestamp": 1631539683364,
     "user": {
      "displayName": "Arnab Saha",
      "photoUrl": "https://lh3.googleusercontent.com/a-/AOh14GiD4TJ-wJULrSHWGnav3lCnSnwAsRA_pWP9O1pJAQ=s64",
      "userId": "06656585353086452374"
     },
     "user_tz": -360
    },
    "id": "EqtndaSkfxmZ"
   },
   "outputs": [],
   "source": [
    "bquad_path = '/content/drive/MyDrive/Colab Notebooks/data/bquad.json'\n",
    "bquad_script_path = '/content/drive/MyDrive/Colab Notebooks/data/load_bquad.py'\n",
    "modelpath = '/content/drive/MyDrive/Colab Notebooks/model/newmodel/'"
   ]
  },
  {
   "cell_type": "code",
   "execution_count": 3,
   "metadata": {
    "colab": {
     "base_uri": "https://localhost:8080/"
    },
    "executionInfo": {
     "elapsed": 1218,
     "status": "ok",
     "timestamp": 1631539684579,
     "user": {
      "displayName": "Arnab Saha",
      "photoUrl": "https://lh3.googleusercontent.com/a-/AOh14GiD4TJ-wJULrSHWGnav3lCnSnwAsRA_pWP9O1pJAQ=s64",
      "userId": "06656585353086452374"
     },
     "user_tz": -360
    },
    "id": "mK7Xr9abI9qr",
    "outputId": "55dfa4c5-35e9-4ce4-d04c-2503e975bb80"
   },
   "outputs": [
    {
     "ename": "FileNotFoundError",
     "evalue": "[Errno 2] No such file or directory: '/content/drive/MyDrive/Colab Notebooks/data/bquad.json'",
     "output_type": "error",
     "traceback": [
      "\u001b[1;31m---------------------------------------------------------------------------\u001b[0m",
      "\u001b[1;31mFileNotFoundError\u001b[0m                         Traceback (most recent call last)",
      "\u001b[1;32m<ipython-input-3-24a3d99c8923>\u001b[0m in \u001b[0;36m<module>\u001b[1;34m\u001b[0m\n\u001b[0;32m      1\u001b[0m \u001b[1;32mimport\u001b[0m \u001b[0mjson\u001b[0m\u001b[1;33m\u001b[0m\u001b[1;33m\u001b[0m\u001b[0m\n\u001b[0;32m      2\u001b[0m \u001b[1;33m\u001b[0m\u001b[0m\n\u001b[1;32m----> 3\u001b[1;33m \u001b[1;32mwith\u001b[0m \u001b[0mopen\u001b[0m\u001b[1;33m(\u001b[0m\u001b[0mbquad_path\u001b[0m\u001b[1;33m,\u001b[0m \u001b[1;34m'r'\u001b[0m\u001b[1;33m,\u001b[0m \u001b[0mencoding\u001b[0m\u001b[1;33m=\u001b[0m\u001b[1;34m'UTF-8'\u001b[0m\u001b[1;33m)\u001b[0m \u001b[1;32mas\u001b[0m \u001b[0mf\u001b[0m\u001b[1;33m:\u001b[0m\u001b[1;33m\u001b[0m\u001b[1;33m\u001b[0m\u001b[0m\n\u001b[0m\u001b[0;32m      4\u001b[0m     \u001b[0mbquad\u001b[0m \u001b[1;33m=\u001b[0m \u001b[0mjson\u001b[0m\u001b[1;33m.\u001b[0m\u001b[0mload\u001b[0m\u001b[1;33m(\u001b[0m\u001b[0mf\u001b[0m\u001b[1;33m)\u001b[0m\u001b[1;33m\u001b[0m\u001b[1;33m\u001b[0m\u001b[0m\n\u001b[0;32m      5\u001b[0m \u001b[1;33m\u001b[0m\u001b[0m\n",
      "\u001b[1;31mFileNotFoundError\u001b[0m: [Errno 2] No such file or directory: '/content/drive/MyDrive/Colab Notebooks/data/bquad.json'"
     ]
    }
   ],
   "source": [
    "import json\n",
    "\n",
    "with open(bquad_path, 'r', encoding='UTF-8') as f:\n",
    "    bquad = json.load(f)\n",
    "\n",
    "data = bquad['data']\n",
    "print(len(data), 'titles')\n",
    "paras, qas = 0, 0\n",
    "\n",
    "for i in range(len(data)):\n",
    "    paras+= len(data[i]['paragraphs'])\n",
    "    for j in range(len(data[i]['paragraphs'])):\n",
    "        qas+= len(data[i]['paragraphs'][j]['qas'])\n",
    "        # for k in range(len(data[i]['paragraphs'][j]['qas'])):\n",
    "        #     value = data[i]['paragraphs'][j]['qas'][k]['is_impossible']\n",
    "        #     if isinstance(value, str):\n",
    "        #         data[i]['paragraphs'][j]['qas'][k]['is_impossible'] = False\n",
    "\n",
    "print(paras, 'paragraphs', qas, 'qa pairs')\n",
    "\n",
    "bquad['data'] = data"
   ]
  },
  {
   "cell_type": "markdown",
   "metadata": {
    "id": "w72p4H-9fxma"
   },
   "source": [
    "## load_bquad.py is a custom script to load data from the bquad json file. \n",
    "## In the load_bquad.py change the URL variable to the directory where bquad is stored."
   ]
  },
  {
   "cell_type": "code",
   "execution_count": 6,
   "metadata": {
    "colab": {
     "base_uri": "https://localhost:8080/",
     "height": 173,
     "referenced_widgets": [
      "2394558f72fa4e55a02ba6bc821dc550",
      "4978a8a0027044c5bf72326acd28d65b",
      "e6769218f29942aa9845775217623dda",
      "816d197e4c62426a99e565b4bb6de435",
      "158c251a542f4482b9687575474e17b5",
      "195010b7ae674471b85ce02d6eeae9b5",
      "8acbdb46eba74bd2a2e158801e03b397",
      "9125f8073c10465b82a9037749687fbb",
      "718d9323c54d4ff7a56c8e089397854a",
      "e099170211ec4be7ac597498f3921e0a",
      "cfa6f4404a0f43ca9ab7549207edb6c0"
     ]
    },
    "executionInfo": {
     "elapsed": 2426,
     "status": "ok",
     "timestamp": 1631539687003,
     "user": {
      "displayName": "Arnab Saha",
      "photoUrl": "https://lh3.googleusercontent.com/a-/AOh14GiD4TJ-wJULrSHWGnav3lCnSnwAsRA_pWP9O1pJAQ=s64",
      "userId": "06656585353086452374"
     },
     "user_tz": -360
    },
    "id": "HyE5M06JVEiE",
    "outputId": "b8e92413-eb46-4757-e191-727e20582e3f"
   },
   "outputs": [
    {
     "name": "stdout",
     "output_type": "stream",
     "text": [
      "Downloading and preparing dataset squad/plain_text (download: Unknown size, generated: Unknown size, post-processed: Unknown size, total: Unknown size) to /root/.cache/huggingface/datasets/squad/plain_text/1.0.0/ef1e39b1e98389c254fade8294da9fcc7e2fe18019d8e3dbf5956c1fad872263...\n"
     ]
    },
    {
     "data": {
      "application/vnd.jupyter.widget-view+json": {
       "model_id": "2394558f72fa4e55a02ba6bc821dc550",
       "version_major": 2,
       "version_minor": 0
      },
      "text/plain": [
       "0 examples [00:00, ? examples/s]"
      ]
     },
     "metadata": {},
     "output_type": "display_data"
    },
    {
     "name": "stdout",
     "output_type": "stream",
     "text": [
      "Dataset squad downloaded and prepared to /root/.cache/huggingface/datasets/squad/plain_text/1.0.0/ef1e39b1e98389c254fade8294da9fcc7e2fe18019d8e3dbf5956c1fad872263. Subsequent calls will reuse this data.\n",
      "DatasetDict({\n",
      "    train: Dataset({\n",
      "        features: ['id', 'title', 'context', 'question', 'answers'],\n",
      "        num_rows: 13048\n",
      "    })\n",
      "})\n"
     ]
    }
   ],
   "source": [
    "squad_v2 = False\n",
    "from datasets import load_dataset, load_metric\n",
    "\n",
    "datasets = load_dataset(bquad_script_path)\n",
    "\n",
    "print(datasets)"
   ]
  },
  {
   "cell_type": "markdown",
   "metadata": {
    "id": "g45fTT-1fxmb"
   },
   "source": [
    "## Random Exmaples"
   ]
  },
  {
   "cell_type": "code",
   "execution_count": 7,
   "metadata": {
    "colab": {
     "base_uri": "https://localhost:8080/",
     "height": 1000
    },
    "executionInfo": {
     "elapsed": 5,
     "status": "ok",
     "timestamp": 1631539687003,
     "user": {
      "displayName": "Arnab Saha",
      "photoUrl": "https://lh3.googleusercontent.com/a-/AOh14GiD4TJ-wJULrSHWGnav3lCnSnwAsRA_pWP9O1pJAQ=s64",
      "userId": "06656585353086452374"
     },
     "user_tz": -360
    },
    "id": "Ndw_YP0IevZs",
    "outputId": "ab724c15-e378-4da7-e183-d3ece45af194"
   },
   "outputs": [
    {
     "data": {
      "text/html": [
       "<table border=\"1\" class=\"dataframe\">\n",
       "  <thead>\n",
       "    <tr style=\"text-align: right;\">\n",
       "      <th></th>\n",
       "      <th>id</th>\n",
       "      <th>title</th>\n",
       "      <th>context</th>\n",
       "      <th>question</th>\n",
       "      <th>answers</th>\n",
       "    </tr>\n",
       "  </thead>\n",
       "  <tbody>\n",
       "    <tr>\n",
       "      <th>0</th>\n",
       "      <td>bquad--fgce-1011170</td>\n",
       "      <td>সোমালিয়া</td>\n",
       "      <td>প্রাচীন সোমালিয়ায় সোমালিতে টালো নামে পরিচিত পিরামিডিকাল কাঠামো একটি জনপ্রিয় কবর রচনা ছিল, আজ শত শত শুকনো পাথরের স্মৃতিস্তম্ভগুলি আজ সারা দেশে ছড়িয়ে ছিটিয়ে রয়েছে। প্রাচীন মিশরে সদৃশ সদৃশ পোষাক দ্বারা ঘরগুলি নির্মিত হয়েছিল। আঙ্গিনা এবং বড় পাথরের দেয়াল বেষ্টনী বেষ্টন উদাহরণ, যেমন ওয়ারগাড ওয়াল।</td>\n",
       "      <td>সোমালীরা তাদের প্রাচীন পিরামিডগুলি কী বলে?</td>\n",
       "      <td>{'text': ['টালো'], 'answer_start': [29]}</td>\n",
       "    </tr>\n",
       "    <tr>\n",
       "      <th>1</th>\n",
       "      <td>bquad--fgce-1006265</td>\n",
       "      <td>পুনর্নবীকরণযোগ্য_সংক্রান্ত_ বাণিজ্যিকীকরণ</td>\n",
       "      <td>জলবিদ্যুৎ শব্দটি জলবিদ্যুৎ দ্বারা উত্পাদিত বিদ্যুতকে বোঝায়; ঝর্ণা বা প্রবাহিত জল মহাকর্ষ শক্তি ব্যবহারের মাধ্যমে বৈদ্যুতিক শক্তি উত্পাদন। এটি পুনর্নবীকরণযোগ্য শক্তির সর্বাধিক ব্যবহৃত ফর্ম, এটি বিশ্ব বিদ্যুৎ উৎপাদনের ১  শতাংশ - ২০১০ সালে ৩,৪২27 টেরোয়াট-ঘন্টা বিদ্যুৎ উত্পাদন, এবং আগামী ২৫ বছরের জন্য প্রতি বছর প্রায় ৩.১% বাড়বে বলে আশা করা হচ্ছে। জলবিদ্যুৎ কেন্দ্রগুলি দীর্ঘজীবী হওয়ার সুবিধা রয়েছে এবং প্রচুর বিদ্যমান উদ্ভিদ 100 বছরেরও বেশি সময় ধরে পরিচালনা করে আসছে।</td>\n",
       "      <td>জলবিদ্যুৎ দ্বারা উত্পাদিত বিদ্যুতের কথা বলতে কী বোঝায়?</td>\n",
       "      <td>{'text': ['জলবিদ্যুৎ'], 'answer_start': [0]}</td>\n",
       "    </tr>\n",
       "    <tr>\n",
       "      <th>2</th>\n",
       "      <td>bquad--fgce-1007574</td>\n",
       "      <td>লাল</td>\n",
       "      <td>প্রাচীন রোমে, টাইরিয়ান বেগুনি সম্রাটের রঙ ছিল, তবে লাল একটি গুরুত্বপূর্ণ ধর্মীয় প্রতীক ছিল। রোমানরা ছুটির দিনে লাল ফিতেযুক্ত টোগাস পরত, এবং একটি বিবাহের কনে একটি লাল শাল পরত, जिसे ফ্লেমিয়াম বলা হত। লাল মূর্তি এবং গ্ল্যাডিয়েটারদের ত্বক রঙ করতে ব্যবহৃত হত। লালও ছিল সেনাবাহিনীর সাথে সম্পর্কিত রঙ; রোমান সৈন্যরা লাল টুনিক পড়ত, এবং আধিকারিকরা একটি পলুডামেন্টাম নামে একটি পোশাক ছিল যা রঙের মানের উপর নির্ভর করে ক্রিমসন, স্কারলেট বা বেগুনি হতে পারে। রোমান পুরাণে লাল যুদ্ধের দেবতা, মঙ্গল গ্রহের সাথে জড়িত। রোমান সাম্রাজ্যের ভেক্সিলয়েডের স্বর্ণের এসপিকিউআর অক্ষরগুলির একটি লাল পটভূমি ছিল। একজন রোমান জেনারেল বিজয়ী হয়েছিলেন তার কৃতিত্বের সম্মানে তার পুরো শরীরটি লাল রঙ করেছিলেন।</td>\n",
       "      <td>কোন সময় লাল রঙের টোগাসগুলি রোমানরা পরত?</td>\n",
       "      <td>{'text': ['ছুটি'], 'answer_start': [102]}</td>\n",
       "    </tr>\n",
       "    <tr>\n",
       "      <th>3</th>\n",
       "      <td>bquad--fgce-1012188</td>\n",
       "      <td>ব্রক লেসনার</td>\n",
       "      <td>ব্রক এডোয়ার্ড লেসনার [1] (/ˈlɛznər/;জন্ম ১২ জুলাই ১৯৭৭ )[1] একজন আমেরিকান  পেশাদার কুস্তিগীর এবং পূর্বে  অপেশাদার কুস্তিগীর, পেশাদার আমেরিকান ফুটবল খেলোয়াড়, এবং মিশ্র মার্শাল শিল্পী,[2] বর্তমানে সে   ডাব্লিউডাব্লিউই এর ডাব্লিউডাব্লিউই র ব্রান্ডের সাথে চুক্তিবদ্ধ আছেন।[3] লেসনার  ৪ বার  ডাব্লিউডাব্লিউই  (ওয়ার্ল্ড হেভি অয়েট ) চ্যাম্পিয়ন হয়েছেন,পূর্বে   ইউ এফ সি ওয়ার্ল্ড হেভিওয়েট ছিলেন , এবং  এনসিএএ বিভাগে কলেজিয়েট  হেভিওয়েট চ্যাম্পিয়ান হন। ,[4][5]</td>\n",
       "      <td>পেশাদার কুস্তিগীর ব্রক লেসনার কবে জন্মগ্রহণ করেন ?</td>\n",
       "      <td>{'text': ['১২ জুলাই ১৯৭৭'], 'answer_start': [43]}</td>\n",
       "    </tr>\n",
       "    <tr>\n",
       "      <th>4</th>\n",
       "      <td>bquad--fgce-1002862</td>\n",
       "      <td>বিমান_বাহক</td>\n",
       "      <td>আধুনিক নৌবাহিনী যারা এ জাতীয় বিমানবাহী বাহক পরিচালনা করে তাদের বহরের মূলধন জাহাজ হিসাবে বিবেচনা করে, যা আগে যুদ্ধজাহাজের ভূমিকা ছিল। এই পরিবর্তনটি দ্বিতীয় বিশ্বযুদ্ধের সময় বায়ু শক্তি যুদ্ধের একটি গুরুত্বপূর্ণ কারণ হয়ে ওঠে, উচ্চতর পরিসর দ্বারা চালিত, ক্যারিয়ার-চালু বিমানের নমনীয়তা এবং কার্যকারিতা দ্বারা পরিচালিত হওয়ার প্রতিক্রিয়াতে ঘটেছিল। যুদ্ধের পরে, ক্যারিয়ার অপারেশন আকার এবং গুরুত্ব বৃদ্ধি অবিরত। ৫,০০০ টন বা তার বেশি সংখ্যক স্থানচ্যুত সুপার কেরিয়ারগুলি ক্যারিয়ার বিকাশের শিখরে পরিণত হয়েছে। কিছু কিছু পারমাণবিক চুল্লি দ্বারা চালিত হয় এবং বাড়ি থেকে দূরে পরিচালনার জন্য নির্মিত একটি বহরের মূল গঠন করে। ইউএসএস তারাওয়া এবং এইচএমএস মহাসাগরের মতো উভচর হামলাকারী জাহাজগুলি মেরিনকে বহন এবং অবতরণের লক্ষ্যে কাজ করে এবং এই উদ্দেশ্যে হেলিকপ্টারগুলির একটি বিশাল দল পরিচালনা করে। \"কমান্ডো ক্যারিয়ার\" বা \"হেলিকপ্টার ক্যারিয়ার\" নামে পরিচিত, অনেকের ভিএসটিএল বিমান চালনা করার ক্ষমতা রয়েছে।</td>\n",
       "      <td>কোন জাহাজ মেরিন বহন এবং অবতরণের জন্য ব্যবহৃত হয়?</td>\n",
       "      <td>{'text': ['উভচর হামলাকারী জাহাজ'], 'answer_start': [663]}</td>\n",
       "    </tr>\n",
       "    <tr>\n",
       "      <th>5</th>\n",
       "      <td>bquad--fgce-1010958</td>\n",
       "      <td>জিন</td>\n",
       "      <td>ডিএনএর দুটি শৃঙ্খলা একে অপরের চারপাশে মোচড় করে ডিএসএ ডাবল হেলিক্স গঠন করে ফসফেট-চিনি ব্যাকবোনটি বাইরের চারপাশে ঘূর্ণায়মান হয় এবং বেসগুলি থাইমাইন এবং গুয়ানিনকে সাইটোসিনের সাথে জোড়া দিয়ে অ্যাডিনাইন বেসের সাথে ভিতরের দিকে ইশারা করে। বেস পেয়ারিংয়ের বৈশিষ্ট্য দেখা দেয় কারণ অ্যাডেনিন এবং থাইমাইন দুটি হাইড্রোজেন বন্ধন গঠন করে, যেখানে সাইটোসিন এবং গুয়াইন তিনটি হাইড্রোজেন বন্ধন গঠন করে। ডাবল হেলিক্সের দুটি স্ট্র্যান্ড অবশ্যই পরিপূরক হতে হবে, তাদের ঘাঁটির ক্রমগুলির সাথে এটির সাথে মিল রয়েছে যাতে একটি স্ট্র্যান্ডের অ্যাডিনাইনগুলি অন্য স্ট্র্যান্ডের থাইমিনেসের সাথে জোড়াযুক্ত হয়, এবং এইভাবেই।</td>\n",
       "      <td>গাঁইন জোড়া কোন বেসের সাথে?</td>\n",
       "      <td>{'text': ['সাইটোসিন'], 'answer_start': [163]}</td>\n",
       "    </tr>\n",
       "    <tr>\n",
       "      <th>6</th>\n",
       "      <td>bquad--fgce-1007659</td>\n",
       "      <td>লাল</td>\n",
       "      <td>মার্কিন যুক্তরাষ্ট্রে, রাজনৈতিক ভাষ্যকাররা প্রায়শই \"লাল রাজ্য\", যা প্রচলিতভাবে রাষ্ট্রপতি নির্বাচনের ক্ষেত্রে রিপাবলিকান প্রার্থীদের ভোট দেয় এবং \"নীল রাজ্যগুলি\", যা ডেমোক্র্যাটিক প্রার্থীকে ভোট দেয় বলে উল্লেখ করে। এই সম্মেলনটি তুলনামূলকভাবে সাম্প্রতিক: ২০০০ সালের রাষ্ট্রপতি নির্বাচনের আগে, মিডিয়া আউটলেটগুলি উভয় পক্ষকে লাল এবং নীল রঙের নিয়োগ দেয়, কখনও কখনও প্রতিটি নির্বাচনের জন্য বরাদ্দকে পরিবর্তিত করে। 2000 নির্বাচনের পরে 39 দিনের পুনঃনিরীক্ষণের সময় স্থির ব্যবহার প্রতিষ্ঠিত হয়েছিল, যখন মিডিয়া \"লাল রাজ্য\" বনাম \"নীল রাজ্যগুলি\" হিসাবে এই প্রতিযোগিতাটি নিয়ে আলোচনা শুরু করে।</td>\n",
       "      <td>2000 মার্কিন নির্বাচনের পরে গণনা কত দিন শেষ হয়েছে?</td>\n",
       "      <td>{'text': ['39'], 'answer_start': [433]}</td>\n",
       "    </tr>\n",
       "    <tr>\n",
       "      <th>7</th>\n",
       "      <td>bquad--fgce-1011578</td>\n",
       "      <td>চিলি</td>\n",
       "      <td>চিলি (স্পেনীয় ভাষায়: Chile চিলে) দক্ষিণ আমেরিকার দক্ষিণ-পশ্চিম অংশের একটি দেশ। দেশটি প্রশান্ত মহাসাগরের উপকূল ঘেঁষে একটি লম্বা ফিতার মত প্রসারিত একটি ভূখণ্ড। উত্তর-দক্ষিণে চিলির দৈর্ঘ্য প্রায় ৪,২৭০ কিলোমিটার, কিন্তু এর গড় বিস্তার ১৮০ কিলোমিটারেরও কম। উত্তরের ঊষর মরুভূমি থেকে শুরু করে দক্ষিণের ঝঞ্ঝাপীড়িত হিমবাহ ও ফিয়র্ডসমূহ চিলির ভূ-দৃশ্যাবলির বৈচিত্র‌্যের স্বাক্ষর বহন করছে। দেশটির মধ্যভাগে একটি উর্বর উপত্যকা অবস্থিত। পূর্বে আন্দেস পর্বতমালা আর্জেন্টিনার সাথে সীমান্ত তৈরি করেছে। চিলির রাজধানী ও বৃহত্তম শহর সান্তিয়াগো মধ্যভাগের উপত্যকায় অবস্থিত।</td>\n",
       "      <td>চিলির রাজধানী ও বৃহত্তম শহর কোনটি?</td>\n",
       "      <td>{'text': ['সান্তিয়াগো'], 'answer_start': [517]}</td>\n",
       "    </tr>\n",
       "    <tr>\n",
       "      <th>8</th>\n",
       "      <td>bquad--fgce-1005949</td>\n",
       "      <td>পোকা</td>\n",
       "      <td>পোকামাকড়গুলি প্রথম দিকের স্থলজাতীয় শাক-সবজির মধ্যে অন্যতম এবং উদ্ভিদের প্রধান নির্বাচন এজেন্ট হিসাবে অভিনয় করে। উদ্ভিদের উদ্ভিদ এবং এই পোকামাকড়ের বিরুদ্ধে রাসায়নিক প্রতিরক্ষার বিবর্তন ঘটে এবং পরিবর্তে উদ্ভিদের বিষক্রিয়াগুলি মোকাবেলা করার প্রক্রিয়া বিকশিত হয়। অনেকগুলি পোকামাকড় তাদের শিকারীদের হাত থেকে বাঁচাতে এই বিষ ব্যবহার করে। এই জাতীয় পোকামাকড় প্রায়শই সতর্কতার রং ব্যবহার করে তাদের বিষাক্ততার বিজ্ঞাপন দেয়। এই সফল বিবর্তনীয় প্যাটার্নটি মিমিক্সও ব্যবহার করেছেন। সময়ের সাথে সাথে, এটি কোয়েভল প্রজাতির জটিল দলগুলির দিকে পরিচালিত করেছে। বিপরীতে, পরাগকরণের মতো গাছপালা এবং পোকামাকড়ের মধ্যে কিছু মিথস্ক্রিয়া উভয় প্রাণীর পক্ষে উপকারী। কোয়েভলিউশন যেমন সিস্টেমগুলিতে খুব নির্দিষ্ট পারস্পরিকতা বিকাশের দিকে পরিচালিত করে।</td>\n",
       "      <td>পোকামাকড়গুলির প্রতিক্রিয়াতে উদ্ভিদগুলি কী ধরনের প্রতিরক্ষামূলকভাবে অভিযোজিতভাবে বিকশিত হয়েছিল?</td>\n",
       "      <td>{'text': ['রাসায়নিক'], 'answer_start': [159]}</td>\n",
       "    </tr>\n",
       "    <tr>\n",
       "      <th>9</th>\n",
       "      <td>bquad--fgce-1005796</td>\n",
       "      <td>ইতিহাস_ও_ ভারত</td>\n",
       "      <td>তবে, পশ্চিমা বাহিনীর বিরুদ্ধে, বিশেষত গজনির যুবক মাহমুদের বিরুদ্ধে যুদ্ধে সেনাবাহিনী হতাশ ছিল। 1001 সালে, সুলতান মাহমুদ ক্ষমতায় আসার এবং হিন্দু কুশের উত্তরে কারাখানিদদের দখলে যাওয়ার পরই, জয়পাল আরও একবার গজনী আক্রমণ করেছিলেন এবং বর্তমান পেশোয়ারের নিকটে, শক্তিশালী গজনভীদ বাহিনীর আরও একটি পরাজয়ের শিকার হওয়ার পরে। পেশোয়ারের যুদ্ধের পরে তিনি আত্মহত্যা করেছিলেন কারণ তাঁর প্রজারা ভেবেছিলেন যে তিনি শাহী রাজবংশে বিপর্যয় ও অপমান করেছেন।</td>\n",
       "      <td>জয়ফলের প্রজারা কীসের উপরে ভাবলেন যে তিনি বিপর্যয় নিয়ে এসেছেন?</td>\n",
       "      <td>{'text': ['শাহী রাজবংশ'], 'answer_start': [401]}</td>\n",
       "    </tr>\n",
       "  </tbody>\n",
       "</table>"
      ],
      "text/plain": [
       "<IPython.core.display.HTML object>"
      ]
     },
     "metadata": {},
     "output_type": "display_data"
    },
    {
     "name": "stdout",
     "output_type": "stream",
     "text": [
      "None\n"
     ]
    }
   ],
   "source": [
    "from datasets import ClassLabel, Sequence\n",
    "import random\n",
    "import pandas as pd\n",
    "from IPython.display import display, HTML\n",
    "\n",
    "def show_random_elements(dataset, num_examples=10):\n",
    "    assert num_examples <= len(dataset), \"Can't pick more elements than there are in the dataset.\"\n",
    "    picks = []\n",
    "    for _ in range(num_examples):\n",
    "        pick = random.randint(0, len(dataset)-1)\n",
    "        while pick in picks:\n",
    "            pick = random.randint(0, len(dataset)-1)\n",
    "        picks.append(pick)\n",
    "    \n",
    "    df = pd.DataFrame(dataset[picks])\n",
    "    for column, typ in dataset.features.items():\n",
    "        if isinstance(typ, ClassLabel):\n",
    "            df[column] = df[column].transform(lambda i: typ.names[i])\n",
    "        elif isinstance(typ, Sequence) and isinstance(typ.feature, ClassLabel):\n",
    "            df[column] = df[column].transform(lambda x: [typ.feature.names[i] for i in x])\n",
    "    display(HTML(df.to_html()))\n",
    "\n",
    "print(show_random_elements(datasets[\"train\"]))"
   ]
  },
  {
   "cell_type": "code",
   "execution_count": 8,
   "metadata": {
    "colab": {
     "base_uri": "https://localhost:8080/"
    },
    "executionInfo": {
     "elapsed": 3271,
     "status": "ok",
     "timestamp": 1631539690270,
     "user": {
      "displayName": "Arnab Saha",
      "photoUrl": "https://lh3.googleusercontent.com/a-/AOh14GiD4TJ-wJULrSHWGnav3lCnSnwAsRA_pWP9O1pJAQ=s64",
      "userId": "06656585353086452374"
     },
     "user_tz": -360
    },
    "id": "5woKPIlAe4e3",
    "outputId": "77aa1f6d-091f-4ee4-e4cb-c263931c79b8"
   },
   "outputs": [
    {
     "name": "stdout",
     "output_type": "stream",
     "text": [
      "{'input_ids': [2, 1932, 12277, 16, 6602, 33137, 48293, 24889, 18247, 32560, 3743, 2253, 2015, 3], 'token_type_ids': [0, 0, 0, 0, 0, 0, 0, 0, 0, 0, 0, 0, 0, 0], 'attention_mask': [1, 1, 1, 1, 1, 1, 1, 1, 1, 1, 1, 1, 1, 1]}\n",
      "[CLS] আজ অবধি, বেশিরভাগ শিকারী সংগরহকারী শরমের পরতীকী কাঠামোগত যৌন বিভাগ রযেছে [SEP]\n",
      "387\n"
     ]
    }
   ],
   "source": [
    "from transformers import AutoTokenizer\n",
    "\n",
    "tokenizer = AutoTokenizer.from_pretrained(modelpath)\n",
    "import transformers\n",
    "assert isinstance(tokenizer, transformers.PreTrainedTokenizerFast)\n",
    "\n",
    "print(tokenizer(\"আজ অবধি, বেশিরভাগ শিকারী সংগ্রহকারী শ্রমের প্রতীকী কাঠামোগত যৌন বিভাগ রয়েছে\"))\n",
    "print(tokenizer.decode(tokenizer(\"আজ অবধি, বেশিরভাগ শিকারী সংগ্রহকারী শ্রমের প্রতীকী কাঠামোগত যৌন বিভাগ রয়েছে\")['input_ids']))\n",
    "\n",
    "for i, example in enumerate(datasets[\"train\"]):\n",
    "    # print(example[\"question\"])\n",
    "    # print(len(tokenizer(example[\"question\"])[\"input_ids\"]))\n",
    "    if len(tokenizer(example[\"question\"], example[\"context\"])[\"input_ids\"]) > 384:\n",
    "        break\n",
    "example = datasets[\"train\"][i]\n",
    "# print(datasets[\"train\"][i])\n",
    "\n",
    "print(len(tokenizer(example[\"question\"], example[\"context\"])[\"input_ids\"]))"
   ]
  },
  {
   "cell_type": "code",
   "execution_count": 9,
   "metadata": {
    "colab": {
     "base_uri": "https://localhost:8080/"
    },
    "executionInfo": {
     "elapsed": 15,
     "status": "ok",
     "timestamp": 1631539690271,
     "user": {
      "displayName": "Arnab Saha",
      "photoUrl": "https://lh3.googleusercontent.com/a-/AOh14GiD4TJ-wJULrSHWGnav3lCnSnwAsRA_pWP9O1pJAQ=s64",
      "userId": "06656585353086452374"
     },
     "user_tz": -360
    },
    "id": "Luje-L0mfzBW",
    "outputId": "69ebcbdf-09d4-4461-a2d6-df0d6f061b1f"
   },
   "outputs": [
    {
     "name": "stdout",
     "output_type": "stream",
     "text": [
      "[384, 147]\n",
      "[CLS] গলযাজড কালেকশন সিসটেমের চেযে কি পরিবহন সংগরহকারীরা কম বেশি সাশরযী? [SEP] সৌর কেনদরীকরণ পরযকতি যেমন পযারাবোলিক ডিশ, টরাট এবং শেফলার পরতিবিমবগলি বাণিজযিক ও শিলপকৌশল অযাপলিকেশনগলির জনয পরকরিযা তাপ সরবরাহ করতে পারে । পরথম বাণিজযিক বযবসথাটি মারকিন যকতরাষটরের জরজিযার শেনানডোহায সোলার টোটাল এনারজি পরজেকট ( এসটিইপি ) ছিল যেখানে ১১৪ টি পযারাবলিক খাবারের কষেতরটি পোশাক কারখানার জনয পরকরিযাজাতীয হিটিং, শীতাতপ নিযনতরণ এবং বৈদযতিক পরযোজনীযতার 50 % সরবরাহ করে । এই গরিড - সংযকত সমনবয বযবসথা 401 কিলোওযাট বাষপ এবং 468 কিলোওযাট শীতল জল আকারে 400 কিলোওযাট বিদযত পলাস তাপীয শকতি সরবরাহ করেছিল এবং এতে এক ঘনটা শিখর লোড তাপীয সটোরেজ ছিল । বাষপীভবন পকরগলি অগভীর পল যা বাষপীভবনের মাধযমে দরবীভত ঘনকে ঘনীভত করে । সমদরের জল থেকে লবণ গরহণের জনয বাষপীভবনের পকরগলির বযবহার সৌরশকতির অনযতম পরাচীনতম পরযোগ । আধনিক বযবহারগলির মধযে জলাবদধতা খনির কষেতরে বযবহত বরিন সলিউশনগলিকে কেনদরীভত করা এবং বরজয পরবাহগলি থেকে দরবীভত দরবণগলি অপসারণ অনতরভকত । কাপডের লাইনগলি, কাপডের ঘোডাগলি এবং কাপডগলি বিদযৎ বা গযাস বযবহার না করে বাতাস এবং সরযের আলো দবারা বাষপীভবনের মাধযমে শকনো কাপড সজজিত করে । মারকিন যকতরাষটরের কযেকটি রাজযে আইন \" শকনো থেকে ডান \" পোশাকটিকে সরকষা দেয । অবরদধ টরানসপারডড কালেকটর ( ইউটিসি ) হল ভেনটিলেশন এযারের জনয উততপত সরযমখী দেযাল বযবহত হয । ইউটিসিগলি আগত বায তাপমাতরা 22 ডিগরি সেনটিগরেড ( 40 ডিগরি ফারেনহাইট ) পরযনত বাডিযে 4545 ° সেনটিগরেড ( 113 – 140 ° ফাঃ ) আউটলেট তাপমাতরা সরবরাহ করতে পারে । টরানসপোরটেড কালেকটরগলির সবলপ পরিশোধের সমযকাল ( 3 থেকে 12 বছর ) তাদেরকে গলাসযকত সংগরহ বযবসথার চেযে আরও সাশরযী বিকলপ হিসাবে পরিণত করে । 2003 হিসাবে, 35, 000 বরগমিটার ( 380, 000 বরগফট ) এর সমমিলিত সংগরাহক অঞচল সহ 80 টিরও বেশি সিসটেম বিশববযাপী ইনসটল করা হযেছিল, কোসটা রিকার একটি 860 এম 2 ( 9, 300 বরগফট ) সংগরাহক সহ কফির মটরশটি শকানোর জনয বযবহত হযেছিল এবং 1, 300 এম 2 ( 14, 000 ) বরগফট ) ভারতের কইমবাতরে সংগরাহক গাদা শকানোর জনয [SEP]\n",
      "[CLS] গলযাজড কালেকশন সিসটেমের চেযে কি পরিবহন সংগরহকারীরা কম বেশি সাশরযী? [SEP] আগত বায তাপমাতরা 22 ডিগরি সেনটিগরেড ( 40 ডিগরি ফারেনহাইট ) পরযনত বাডিযে 4545 ° সেনটিগরেড ( 113 – 140 ° ফাঃ ) আউটলেট তাপমাতরা সরবরাহ করতে পারে । টরানসপোরটেড কালেকটরগলির সবলপ পরিশোধের সমযকাল ( 3 থেকে 12 বছর ) তাদেরকে গলাসযকত সংগরহ বযবসথার চেযে আরও সাশরযী বিকলপ হিসাবে পরিণত করে । 2003 হিসাবে, 35, 000 বরগমিটার ( 380, 000 বরগফট ) এর সমমিলিত সংগরাহক অঞচল সহ 80 টিরও বেশি সিসটেম বিশববযাপী ইনসটল করা হযেছিল, কোসটা রিকার একটি 860 এম 2 ( 9, 300 বরগফট ) সংগরাহক সহ কফির মটরশটি শকানোর জনয বযবহত হযেছিল এবং 1, 300 এম 2 ( 14, 000 ) বরগফট ) ভারতের কইমবাতরে সংগরাহক গাদা শকানোর জনয বযবহত হয । [SEP]\n"
     ]
    }
   ],
   "source": [
    "max_length = 384 # The maximum length of a feature (question and context)\n",
    "doc_stride = 128 # The authorized overlap between two part of the context when splitting it is needed.\n",
    "\n",
    "tokenized_example = tokenizer(\n",
    "    example[\"question\"],\n",
    "    example[\"context\"],\n",
    "    max_length=max_length,\n",
    "    truncation=\"only_second\",\n",
    "    return_overflowing_tokens=True,\n",
    "    stride=doc_stride\n",
    ")\n",
    "\n",
    "print([len(x) for x in tokenized_example[\"input_ids\"]])\n",
    "\n",
    "for x in tokenized_example[\"input_ids\"][:2]:\n",
    "    print(tokenizer.decode(x))"
   ]
  },
  {
   "cell_type": "code",
   "execution_count": 10,
   "metadata": {
    "colab": {
     "base_uri": "https://localhost:8080/"
    },
    "executionInfo": {
     "elapsed": 11,
     "status": "ok",
     "timestamp": 1631539690271,
     "user": {
      "displayName": "Arnab Saha",
      "photoUrl": "https://lh3.googleusercontent.com/a-/AOh14GiD4TJ-wJULrSHWGnav3lCnSnwAsRA_pWP9O1pJAQ=s64",
      "userId": "06656585353086452374"
     },
     "user_tz": -360
    },
    "id": "y17Bva_9f0jP",
    "outputId": "0ba97b1d-8ded-42c4-f551-34742d82a025"
   },
   "outputs": [
    {
     "name": "stdout",
     "output_type": "stream",
     "text": [
      "[(0, 0), (0, 6), (6, 8), (9, 16), (17, 26), (27, 32), (33, 35), (36, 42), (43, 53), (53, 55), (56, 58), (59, 63), (64, 72), (72, 73), (0, 0), (0, 3), (4, 13), (13, 15), (16, 25), (26, 30), (31, 37), (37, 40), (40, 42), (43, 46), (46, 47), (48, 52), (52, 53), (54, 57), (58, 61), (61, 64), (65, 75), (75, 79), (80, 89), (90, 91), (92, 99), (98, 100), (100, 101), (102, 114), (114, 119), (120, 124), (125, 135), (136, 139), (140, 146), (147, 151), (152, 156), (156, 157), (158, 163), (164, 173), (174, 184), (185, 192), (193, 207), (208, 217), (218, 221), (221, 224), (224, 227), (227, 228), (230, 235), (236, 241), (242, 249), (250, 258), (259, 260), (260, 264), (264, 265), (265, 267), (267, 268), (269, 272), (273, 279), (280, 283), (284, 286), (287, 293), (293, 297), (298, 305), (306, 315), (316, 321), (322, 330), (331, 335), (336, 349), (349, 351), (353, 356), (356, 358), (358, 359), (360, 366), (367, 377), (378, 381), (382, 391), (392, 406), (407, 409), (409, 410), (411, 417), (418, 421), (421, 422), (423, 425), (426, 431), (431, 432), (432, 439), (440, 446), (448, 456), (457, 459), (459, 460), (461, 470)]\n",
      "গলযা গ্ল্যা\n",
      "[None, 0, 0, 0, 0, 0, 0, 0, 0, 0, 0, 0, 0, 0, None, 1, 1, 1, 1, 1, 1, 1, 1, 1, 1, 1, 1, 1, 1, 1, 1, 1, 1, 1, 1, 1, 1, 1, 1, 1, 1, 1, 1, 1, 1, 1, 1, 1, 1, 1, 1, 1, 1, 1, 1, 1, 1, 1, 1, 1, 1, 1, 1, 1, 1, 1, 1, 1, 1, 1, 1, 1, 1, 1, 1, 1, 1, 1, 1, 1, 1, 1, 1, 1, 1, 1, 1, 1, 1, 1, 1, 1, 1, 1, 1, 1, 1, 1, 1, 1, 1, 1, 1, 1, 1, 1, 1, 1, 1, 1, 1, 1, 1, 1, 1, 1, 1, 1, 1, 1, 1, 1, 1, 1, 1, 1, 1, 1, 1, 1, 1, 1, 1, 1, 1, 1, 1, 1, 1, 1, 1, 1, 1, 1, 1, 1, 1, 1, 1, 1, 1, 1, 1, 1, 1, 1, 1, 1, 1, 1, 1, 1, 1, 1, 1, 1, 1, 1, 1, 1, 1, 1, 1, 1, 1, 1, 1, 1, 1, 1, 1, 1, 1, 1, 1, 1, 1, 1, 1, 1, 1, 1, 1, 1, 1, 1, 1, 1, 1, 1, 1, 1, 1, 1, 1, 1, 1, 1, 1, 1, 1, 1, 1, 1, 1, 1, 1, 1, 1, 1, 1, 1, 1, 1, 1, 1, 1, 1, 1, 1, 1, 1, 1, 1, 1, 1, 1, 1, 1, 1, 1, 1, 1, 1, 1, 1, 1, 1, 1, 1, 1, 1, 1, 1, 1, 1, 1, 1, 1, 1, 1, 1, 1, 1, 1, 1, 1, 1, 1, 1, 1, 1, 1, 1, 1, 1, 1, 1, 1, 1, 1, 1, 1, 1, 1, 1, 1, 1, 1, 1, 1, 1, 1, 1, 1, 1, 1, 1, 1, 1, 1, 1, 1, 1, 1, 1, 1, 1, 1, 1, 1, 1, 1, 1, 1, 1, 1, 1, 1, 1, 1, 1, 1, 1, 1, 1, 1, 1, 1, 1, 1, 1, 1, 1, 1, 1, 1, 1, 1, 1, 1, 1, 1, 1, 1, 1, 1, 1, 1, 1, 1, 1, 1, 1, 1, 1, 1, 1, 1, 1, 1, 1, 1, 1, 1, 1, 1, 1, 1, 1, 1, 1, 1, 1, 1, 1, 1, 1, 1, 1, 1, 1, 1, None]\n"
     ]
    }
   ],
   "source": [
    "tokenized_example = tokenizer(\n",
    "    example[\"question\"],\n",
    "    example[\"context\"],\n",
    "    max_length=max_length,\n",
    "    truncation=\"only_second\",\n",
    "    return_overflowing_tokens=True,\n",
    "    return_offsets_mapping=True,\n",
    "    stride=doc_stride\n",
    ")\n",
    "print(tokenized_example[\"offset_mapping\"][0][:100])\n",
    "\n",
    "first_token_id = tokenized_example[\"input_ids\"][0][1]\n",
    "offsets = tokenized_example[\"offset_mapping\"][0][1]\n",
    "print(tokenizer.convert_ids_to_tokens([first_token_id])[0], example[\"question\"][offsets[0]:offsets[1]])\n",
    "\n",
    "sequence_ids = tokenized_example.sequence_ids()\n",
    "print(sequence_ids)"
   ]
  },
  {
   "cell_type": "code",
   "execution_count": 11,
   "metadata": {
    "colab": {
     "base_uri": "https://localhost:8080/"
    },
    "executionInfo": {
     "elapsed": 6,
     "status": "ok",
     "timestamp": 1631539690271,
     "user": {
      "displayName": "Arnab Saha",
      "photoUrl": "https://lh3.googleusercontent.com/a-/AOh14GiD4TJ-wJULrSHWGnav3lCnSnwAsRA_pWP9O1pJAQ=s64",
      "userId": "06656585353086452374"
     },
     "user_tz": -360
    },
    "id": "LH-sBL58glDc",
    "outputId": "c80cd9c8-e192-45ee-e3d8-a26175429f7d"
   },
   "outputs": [
    {
     "name": "stdout",
     "output_type": "stream",
     "text": [
      "306 306\n"
     ]
    }
   ],
   "source": [
    "answers = example[\"answers\"]\n",
    "start_char = answers[\"answer_start\"][0]\n",
    "end_char = start_char + len(answers[\"text\"][0])\n",
    "\n",
    "# Start token index of the current span in the text.\n",
    "token_start_index = 0\n",
    "while sequence_ids[token_start_index] != 1:\n",
    "    token_start_index += 1\n",
    "\n",
    "# End token index of the current span in the text.\n",
    "token_end_index = len(tokenized_example[\"input_ids\"][0]) - 1\n",
    "while sequence_ids[token_end_index] != 1:\n",
    "    token_end_index -= 1\n",
    "\n",
    "# Detect if the answer is out of the span (in which case this feature is labeled with the CLS index).\n",
    "offsets = tokenized_example[\"offset_mapping\"][0]\n",
    "if (offsets[token_start_index][0] <= start_char and offsets[token_end_index][1] >= end_char):\n",
    "    # Move the token_start_index and token_end_index to the two ends of the answer.\n",
    "    # Note: we could go after the last offset if the answer is the last word (edge case).\n",
    "    while token_start_index < len(offsets) and offsets[token_start_index][0] <= start_char:\n",
    "        token_start_index += 1\n",
    "    start_position = token_start_index - 1\n",
    "    while offsets[token_end_index][1] >= end_char:\n",
    "        token_end_index -= 1\n",
    "    end_position = token_end_index + 1\n",
    "    print(start_position, end_position)\n",
    "else:\n",
    "    print(\"The answer is not in this feature.\")\n",
    "\n",
    "\n",
    "pad_on_right = tokenizer.padding_side == \"right\""
   ]
  },
  {
   "cell_type": "code",
   "execution_count": 12,
   "metadata": {
    "executionInfo": {
     "elapsed": 4,
     "status": "ok",
     "timestamp": 1631539690272,
     "user": {
      "displayName": "Arnab Saha",
      "photoUrl": "https://lh3.googleusercontent.com/a-/AOh14GiD4TJ-wJULrSHWGnav3lCnSnwAsRA_pWP9O1pJAQ=s64",
      "userId": "06656585353086452374"
     },
     "user_tz": -360
    },
    "id": "yfGqOv6mgoCn"
   },
   "outputs": [],
   "source": [
    "def prepare_train_features(examples):\n",
    "    # Tokenize our examples with truncation and padding, but keep the overflows using a stride. This results\n",
    "    # in one example possible giving several features when a context is long, each of those features having a\n",
    "    # context that overlaps a bit the context of the previous feature.\n",
    "    tokenized_examples = tokenizer(\n",
    "        examples[\"question\" if pad_on_right else \"context\"],\n",
    "        examples[\"context\" if pad_on_right else \"question\"],\n",
    "        truncation=\"only_second\" if pad_on_right else \"only_first\",\n",
    "        max_length=max_length,\n",
    "        stride=doc_stride,\n",
    "        return_overflowing_tokens=True,\n",
    "        return_offsets_mapping=True,\n",
    "        padding=\"max_length\",\n",
    "    )\n",
    "\n",
    "    # Since one example might give us several features if it has a long context, we need a map from a feature to\n",
    "    # its corresponding example. This key gives us just that.\n",
    "    sample_mapping = tokenized_examples.pop(\"overflow_to_sample_mapping\")\n",
    "    # The offset mappings will give us a map from token to character position in the original context. This will\n",
    "    # help us compute the start_positions and end_positions.\n",
    "    offset_mapping = tokenized_examples.pop(\"offset_mapping\")\n",
    "\n",
    "    # Let's label those examples!\n",
    "    tokenized_examples[\"start_positions\"] = []\n",
    "    tokenized_examples[\"end_positions\"] = []\n",
    "\n",
    "    for i, offsets in enumerate(offset_mapping):\n",
    "        # We will label impossible answers with the index of the CLS token.\n",
    "        input_ids = tokenized_examples[\"input_ids\"][i]\n",
    "        cls_index = input_ids.index(tokenizer.cls_token_id)\n",
    "\n",
    "        # Grab the sequence corresponding to that example (to know what is the context and what is the question).\n",
    "        sequence_ids = tokenized_examples.sequence_ids(i)\n",
    "\n",
    "        # One example can give several spans, this is the index of the example containing this span of text.\n",
    "        sample_index = sample_mapping[i]\n",
    "        answers = examples[\"answers\"][sample_index]\n",
    "        # If no answers are given, set the cls_index as answer.\n",
    "        if len(answers[\"answer_start\"]) == 0:\n",
    "            tokenized_examples[\"start_positions\"].append(cls_index)\n",
    "            tokenized_examples[\"end_positions\"].append(cls_index)\n",
    "        else:\n",
    "            # Start/end character index of the answer in the text.\n",
    "            start_char = answers[\"answer_start\"][0]\n",
    "            end_char = start_char + len(answers[\"text\"][0])\n",
    "\n",
    "            # Start token index of the current span in the text.\n",
    "            token_start_index = 0\n",
    "            while sequence_ids[token_start_index] != (1 if pad_on_right else 0):\n",
    "                token_start_index += 1\n",
    "\n",
    "            # End token index of the current span in the text.\n",
    "            token_end_index = len(input_ids) - 1\n",
    "            while sequence_ids[token_end_index] != (1 if pad_on_right else 0):\n",
    "                token_end_index -= 1\n",
    "\n",
    "            # Detect if the answer is out of the span (in which case this feature is labeled with the CLS index).\n",
    "            if not (offsets[token_start_index][0] <= start_char and offsets[token_end_index][1] >= end_char):\n",
    "                tokenized_examples[\"start_positions\"].append(cls_index)\n",
    "                tokenized_examples[\"end_positions\"].append(cls_index)\n",
    "            else:\n",
    "                # Otherwise move the token_start_index and token_end_index to the two ends of the answer.\n",
    "                # Note: we could go after the last offset if the answer is the last word (edge case).\n",
    "                while token_start_index < len(offsets) and offsets[token_start_index][0] <= start_char:\n",
    "                    token_start_index += 1\n",
    "                tokenized_examples[\"start_positions\"].append(token_start_index - 1)\n",
    "\n",
    "                while offsets[token_end_index][1] >= end_char:\n",
    "                    token_end_index -= 1\n",
    "                tokenized_examples[\"end_positions\"].append(token_end_index + 1)\n",
    "\n",
    "    return tokenized_examples"
   ]
  },
  {
   "cell_type": "code",
   "execution_count": 13,
   "metadata": {
    "colab": {
     "base_uri": "https://localhost:8080/",
     "height": 49,
     "referenced_widgets": [
      "188915bee2f94aeaa790c6f152714ec9",
      "1d7de521477a48b991a5e143445dfab0",
      "beef4bd2c38b44f0ba2486001da2449d",
      "9a3b707c83d74094857bae5dea355f4c",
      "a4e788cecad34a76a085439b7ffbf6c1",
      "d71bba2582464b59b35f55f901c6fc5c",
      "8299d1b110754eeeb57bc5d3da2e0503",
      "93c7624688a84102839a9b2fd8a826ac",
      "632565d76d7b4ba5a7a699af4670b10e",
      "6509705d16fd4673bf7e63b5cc90f9f7",
      "c9418a9361a042479ac99bc2a8efcbbc"
     ]
    },
    "executionInfo": {
     "elapsed": 10479,
     "status": "ok",
     "timestamp": 1631539700748,
     "user": {
      "displayName": "Arnab Saha",
      "photoUrl": "https://lh3.googleusercontent.com/a-/AOh14GiD4TJ-wJULrSHWGnav3lCnSnwAsRA_pWP9O1pJAQ=s64",
      "userId": "06656585353086452374"
     },
     "user_tz": -360
    },
    "id": "M_4oBavcg0--",
    "outputId": "53b37f2c-42f6-4616-db5e-eb4ef56d103b"
   },
   "outputs": [
    {
     "data": {
      "application/vnd.jupyter.widget-view+json": {
       "model_id": "188915bee2f94aeaa790c6f152714ec9",
       "version_major": 2,
       "version_minor": 0
      },
      "text/plain": [
       "  0%|          | 0/14 [00:00<?, ?ba/s]"
      ]
     },
     "metadata": {},
     "output_type": "display_data"
    }
   ],
   "source": [
    "# features = prepare_train_features(datasets['train'][:5])\n",
    "tokenized_datasets = datasets.map(prepare_train_features, batched=True, remove_columns=datasets[\"train\"].column_names)"
   ]
  },
  {
   "cell_type": "code",
   "execution_count": 14,
   "metadata": {
    "colab": {
     "base_uri": "https://localhost:8080/"
    },
    "executionInfo": {
     "elapsed": 12,
     "status": "ok",
     "timestamp": 1631539700749,
     "user": {
      "displayName": "Arnab Saha",
      "photoUrl": "https://lh3.googleusercontent.com/a-/AOh14GiD4TJ-wJULrSHWGnav3lCnSnwAsRA_pWP9O1pJAQ=s64",
      "userId": "06656585353086452374"
     },
     "user_tz": -360
    },
    "id": "1Gg68E4S6-Le",
    "outputId": "4e8250f0-0b12-413a-d6d1-50181eac0540"
   },
   "outputs": [
    {
     "name": "stdout",
     "output_type": "stream",
     "text": [
      "DatasetDict({\n",
      "    train: Dataset({\n",
      "        features: ['attention_mask', 'end_positions', 'input_ids', 'start_positions', 'token_type_ids'],\n",
      "        num_rows: 13115\n",
      "    })\n",
      "})\n"
     ]
    }
   ],
   "source": [
    "print(tokenized_datasets)"
   ]
  },
  {
   "cell_type": "code",
   "execution_count": 15,
   "metadata": {
    "colab": {
     "base_uri": "https://localhost:8080/"
    },
    "executionInfo": {
     "elapsed": 5254,
     "status": "ok",
     "timestamp": 1631539705995,
     "user": {
      "displayName": "Arnab Saha",
      "photoUrl": "https://lh3.googleusercontent.com/a-/AOh14GiD4TJ-wJULrSHWGnav3lCnSnwAsRA_pWP9O1pJAQ=s64",
      "userId": "06656585353086452374"
     },
     "user_tz": -360
    },
    "id": "mvJamBEGg3Jt",
    "outputId": "038be2b7-b87f-4768-bd8d-13cb34501359"
   },
   "outputs": [
    {
     "name": "stderr",
     "output_type": "stream",
     "text": [
      "Some weights of the model checkpoint at /content/drive/MyDrive/Colab Notebooks/model/newmodel/ were not used when initializing BertForQuestionAnswering: ['cls.predictions.bias', 'cls.seq_relationship.bias', 'cls.predictions.decoder.weight', 'cls.predictions.transform.LayerNorm.weight', 'cls.predictions.transform.LayerNorm.bias', 'cls.seq_relationship.weight', 'cls.predictions.transform.dense.bias', 'cls.predictions.decoder.bias', 'cls.predictions.transform.dense.weight']\n",
      "- This IS expected if you are initializing BertForQuestionAnswering from the checkpoint of a model trained on another task or with another architecture (e.g. initializing a BertForSequenceClassification model from a BertForPreTraining model).\n",
      "- This IS NOT expected if you are initializing BertForQuestionAnswering from the checkpoint of a model that you expect to be exactly identical (initializing a BertForSequenceClassification model from a BertForSequenceClassification model).\n",
      "Some weights of BertForQuestionAnswering were not initialized from the model checkpoint at /content/drive/MyDrive/Colab Notebooks/model/newmodel/ and are newly initialized: ['qa_outputs.bias', 'qa_outputs.weight']\n",
      "You should probably TRAIN this model on a down-stream task to be able to use it for predictions and inference.\n"
     ]
    }
   ],
   "source": [
    "from transformers import AutoModelForQuestionAnswering, TrainingArguments, Trainer\n",
    "\n",
    "batch_size = 8\n",
    "\n",
    "model = AutoModelForQuestionAnswering.from_pretrained(modelpath)"
   ]
  },
  {
   "cell_type": "markdown",
   "metadata": {
    "id": "YGhJSKJpoWkN"
   },
   "source": [
    "To instantiate a Trainer, we will need to define three more things. The most important is the TrainingArguments, which is a class that contains all the attributes to customize the training. It requires one folder name, which will be used to save the checkpoints of the model, and all other arguments are optional:"
   ]
  },
  {
   "cell_type": "code",
   "execution_count": 16,
   "metadata": {
    "colab": {
     "base_uri": "https://localhost:8080/",
     "height": 1000
    },
    "executionInfo": {
     "elapsed": 2902489,
     "status": "ok",
     "timestamp": 1631542608477,
     "user": {
      "displayName": "Arnab Saha",
      "photoUrl": "https://lh3.googleusercontent.com/a-/AOh14GiD4TJ-wJULrSHWGnav3lCnSnwAsRA_pWP9O1pJAQ=s64",
      "userId": "06656585353086452374"
     },
     "user_tz": -360
    },
    "id": "kE_X1PcFhSzw",
    "outputId": "d5cede9c-1161-4ce3-e2ff-3b18072e99bd"
   },
   "outputs": [
    {
     "name": "stderr",
     "output_type": "stream",
     "text": [
      "***** Running training *****\n",
      "  Num examples = 13115\n",
      "  Num Epochs = 4\n",
      "  Instantaneous batch size per device = 8\n",
      "  Total train batch size (w. parallel, distributed & accumulation) = 8\n",
      "  Gradient Accumulation steps = 1\n",
      "  Total optimization steps = 6560\n"
     ]
    },
    {
     "data": {
      "text/html": [
       "\n",
       "    <div>\n",
       "      \n",
       "      <progress value='6560' max='6560' style='width:300px; height:20px; vertical-align: middle;'></progress>\n",
       "      [6560/6560 48:12, Epoch 4/4]\n",
       "    </div>\n",
       "    <table border=\"1\" class=\"dataframe\">\n",
       "  <thead>\n",
       "    <tr style=\"text-align: left;\">\n",
       "      <th>Step</th>\n",
       "      <th>Training Loss</th>\n",
       "    </tr>\n",
       "  </thead>\n",
       "  <tbody>\n",
       "    <tr>\n",
       "      <td>500</td>\n",
       "      <td>3.190000</td>\n",
       "    </tr>\n",
       "    <tr>\n",
       "      <td>1000</td>\n",
       "      <td>2.401600</td>\n",
       "    </tr>\n",
       "    <tr>\n",
       "      <td>1500</td>\n",
       "      <td>2.087000</td>\n",
       "    </tr>\n",
       "    <tr>\n",
       "      <td>2000</td>\n",
       "      <td>1.712500</td>\n",
       "    </tr>\n",
       "    <tr>\n",
       "      <td>2500</td>\n",
       "      <td>1.559500</td>\n",
       "    </tr>\n",
       "    <tr>\n",
       "      <td>3000</td>\n",
       "      <td>1.567600</td>\n",
       "    </tr>\n",
       "    <tr>\n",
       "      <td>3500</td>\n",
       "      <td>1.353000</td>\n",
       "    </tr>\n",
       "    <tr>\n",
       "      <td>4000</td>\n",
       "      <td>1.212100</td>\n",
       "    </tr>\n",
       "    <tr>\n",
       "      <td>4500</td>\n",
       "      <td>1.176500</td>\n",
       "    </tr>\n",
       "    <tr>\n",
       "      <td>5000</td>\n",
       "      <td>1.149900</td>\n",
       "    </tr>\n",
       "    <tr>\n",
       "      <td>5500</td>\n",
       "      <td>0.964500</td>\n",
       "    </tr>\n",
       "    <tr>\n",
       "      <td>6000</td>\n",
       "      <td>0.964800</td>\n",
       "    </tr>\n",
       "    <tr>\n",
       "      <td>6500</td>\n",
       "      <td>0.961100</td>\n",
       "    </tr>\n",
       "  </tbody>\n",
       "</table><p>"
      ],
      "text/plain": [
       "<IPython.core.display.HTML object>"
      ]
     },
     "metadata": {},
     "output_type": "display_data"
    },
    {
     "name": "stderr",
     "output_type": "stream",
     "text": [
      "Saving model checkpoint to test-squad/checkpoint-500\n",
      "Configuration saved in test-squad/checkpoint-500/config.json\n",
      "Model weights saved in test-squad/checkpoint-500/pytorch_model.bin\n",
      "tokenizer config file saved in test-squad/checkpoint-500/tokenizer_config.json\n",
      "Special tokens file saved in test-squad/checkpoint-500/special_tokens_map.json\n",
      "Saving model checkpoint to test-squad/checkpoint-1000\n",
      "Configuration saved in test-squad/checkpoint-1000/config.json\n",
      "Model weights saved in test-squad/checkpoint-1000/pytorch_model.bin\n",
      "tokenizer config file saved in test-squad/checkpoint-1000/tokenizer_config.json\n",
      "Special tokens file saved in test-squad/checkpoint-1000/special_tokens_map.json\n",
      "Saving model checkpoint to test-squad/checkpoint-1500\n",
      "Configuration saved in test-squad/checkpoint-1500/config.json\n",
      "Model weights saved in test-squad/checkpoint-1500/pytorch_model.bin\n",
      "tokenizer config file saved in test-squad/checkpoint-1500/tokenizer_config.json\n",
      "Special tokens file saved in test-squad/checkpoint-1500/special_tokens_map.json\n",
      "Saving model checkpoint to test-squad/checkpoint-2000\n",
      "Configuration saved in test-squad/checkpoint-2000/config.json\n",
      "Model weights saved in test-squad/checkpoint-2000/pytorch_model.bin\n",
      "tokenizer config file saved in test-squad/checkpoint-2000/tokenizer_config.json\n",
      "Special tokens file saved in test-squad/checkpoint-2000/special_tokens_map.json\n",
      "Saving model checkpoint to test-squad/checkpoint-2500\n",
      "Configuration saved in test-squad/checkpoint-2500/config.json\n",
      "Model weights saved in test-squad/checkpoint-2500/pytorch_model.bin\n",
      "tokenizer config file saved in test-squad/checkpoint-2500/tokenizer_config.json\n",
      "Special tokens file saved in test-squad/checkpoint-2500/special_tokens_map.json\n",
      "Saving model checkpoint to test-squad/checkpoint-3000\n",
      "Configuration saved in test-squad/checkpoint-3000/config.json\n",
      "Model weights saved in test-squad/checkpoint-3000/pytorch_model.bin\n",
      "tokenizer config file saved in test-squad/checkpoint-3000/tokenizer_config.json\n",
      "Special tokens file saved in test-squad/checkpoint-3000/special_tokens_map.json\n",
      "Saving model checkpoint to test-squad/checkpoint-3500\n",
      "Configuration saved in test-squad/checkpoint-3500/config.json\n",
      "Model weights saved in test-squad/checkpoint-3500/pytorch_model.bin\n",
      "tokenizer config file saved in test-squad/checkpoint-3500/tokenizer_config.json\n",
      "Special tokens file saved in test-squad/checkpoint-3500/special_tokens_map.json\n",
      "Saving model checkpoint to test-squad/checkpoint-4000\n",
      "Configuration saved in test-squad/checkpoint-4000/config.json\n",
      "Model weights saved in test-squad/checkpoint-4000/pytorch_model.bin\n",
      "tokenizer config file saved in test-squad/checkpoint-4000/tokenizer_config.json\n",
      "Special tokens file saved in test-squad/checkpoint-4000/special_tokens_map.json\n",
      "Saving model checkpoint to test-squad/checkpoint-4500\n",
      "Configuration saved in test-squad/checkpoint-4500/config.json\n",
      "Model weights saved in test-squad/checkpoint-4500/pytorch_model.bin\n",
      "tokenizer config file saved in test-squad/checkpoint-4500/tokenizer_config.json\n",
      "Special tokens file saved in test-squad/checkpoint-4500/special_tokens_map.json\n",
      "Saving model checkpoint to test-squad/checkpoint-5000\n",
      "Configuration saved in test-squad/checkpoint-5000/config.json\n",
      "Model weights saved in test-squad/checkpoint-5000/pytorch_model.bin\n",
      "tokenizer config file saved in test-squad/checkpoint-5000/tokenizer_config.json\n",
      "Special tokens file saved in test-squad/checkpoint-5000/special_tokens_map.json\n",
      "Saving model checkpoint to test-squad/checkpoint-5500\n",
      "Configuration saved in test-squad/checkpoint-5500/config.json\n",
      "Model weights saved in test-squad/checkpoint-5500/pytorch_model.bin\n",
      "tokenizer config file saved in test-squad/checkpoint-5500/tokenizer_config.json\n",
      "Special tokens file saved in test-squad/checkpoint-5500/special_tokens_map.json\n",
      "Saving model checkpoint to test-squad/checkpoint-6000\n",
      "Configuration saved in test-squad/checkpoint-6000/config.json\n",
      "Model weights saved in test-squad/checkpoint-6000/pytorch_model.bin\n",
      "tokenizer config file saved in test-squad/checkpoint-6000/tokenizer_config.json\n",
      "Special tokens file saved in test-squad/checkpoint-6000/special_tokens_map.json\n",
      "Saving model checkpoint to test-squad/checkpoint-6500\n",
      "Configuration saved in test-squad/checkpoint-6500/config.json\n",
      "Model weights saved in test-squad/checkpoint-6500/pytorch_model.bin\n",
      "tokenizer config file saved in test-squad/checkpoint-6500/tokenizer_config.json\n",
      "Special tokens file saved in test-squad/checkpoint-6500/special_tokens_map.json\n",
      "\n",
      "\n",
      "Training completed. Do not forget to share your model on huggingface.co/models =)\n",
      "\n",
      "\n"
     ]
    },
    {
     "data": {
      "text/plain": [
       "TrainOutput(global_step=6560, training_loss=1.556086097112516, metrics={'train_runtime': 2893.2554, 'train_samples_per_second': 18.132, 'train_steps_per_second': 2.267, 'total_flos': 3048422538516480.0, 'train_loss': 1.556086097112516, 'epoch': 4.0})"
      ]
     },
     "execution_count": 16,
     "metadata": {},
     "output_type": "execute_result"
    }
   ],
   "source": [
    "args = TrainingArguments(\n",
    "    f\"test-squad\",\n",
    "    learning_rate=2e-5,\n",
    "    per_device_train_batch_size=batch_size,\n",
    "    num_train_epochs=4,\n",
    "    weight_decay=0.01,\n",
    "    do_eval = False,\n",
    "    # evaluation_strategy= 'steps',\n",
    "    # eval_steps = 1500,\n",
    "\n",
    ")\n",
    "\n",
    "# TrainingArguments()\n",
    "# Trainer()\n",
    "\n",
    "from transformers import default_data_collator\n",
    "\n",
    "data_collator = default_data_collator\n",
    "\n",
    "trainer = Trainer(\n",
    "    model,\n",
    "    args,\n",
    "    train_dataset=tokenized_datasets[\"train\"],\n",
    "    # eval_dataset=tokenized_datasets[\"train\"],\n",
    "    data_collator=data_collator,\n",
    "    tokenizer=tokenizer,\n",
    ")\n",
    "\n",
    "trainer.train()"
   ]
  },
  {
   "cell_type": "code",
   "execution_count": 17,
   "metadata": {
    "colab": {
     "base_uri": "https://localhost:8080/"
    },
    "executionInfo": {
     "elapsed": 1223,
     "status": "ok",
     "timestamp": 1631542609690,
     "user": {
      "displayName": "Arnab Saha",
      "photoUrl": "https://lh3.googleusercontent.com/a-/AOh14GiD4TJ-wJULrSHWGnav3lCnSnwAsRA_pWP9O1pJAQ=s64",
      "userId": "06656585353086452374"
     },
     "user_tz": -360
    },
    "id": "V_rfqrhfnEfF",
    "outputId": "c161d037-a036-4a8f-dd64-2541a7a946ca"
   },
   "outputs": [
    {
     "name": "stderr",
     "output_type": "stream",
     "text": [
      "Saving model checkpoint to ./qamodel/\n",
      "Configuration saved in ./qamodel/config.json\n",
      "Model weights saved in ./qamodel/pytorch_model.bin\n",
      "tokenizer config file saved in ./qamodel/tokenizer_config.json\n",
      "Special tokens file saved in ./qamodel/special_tokens_map.json\n"
     ]
    }
   ],
   "source": [
    "savepath = './qamodel/'\n",
    "trainer.save_model(savepath)"
   ]
  },
  {
   "cell_type": "markdown",
   "metadata": {
    "id": "kD1svw8Ufxmi"
   },
   "source": [
    "## Test the model's performance on unseen data"
   ]
  },
  {
   "cell_type": "code",
   "execution_count": 18,
   "metadata": {
    "colab": {
     "base_uri": "https://localhost:8080/"
    },
    "executionInfo": {
     "elapsed": 632,
     "status": "ok",
     "timestamp": 1631542610317,
     "user": {
      "displayName": "Arnab Saha",
      "photoUrl": "https://lh3.googleusercontent.com/a-/AOh14GiD4TJ-wJULrSHWGnav3lCnSnwAsRA_pWP9O1pJAQ=s64",
      "userId": "06656585353086452374"
     },
     "user_tz": -360
    },
    "id": "hXNOGTJuoA6z",
    "outputId": "fc56d2bc-b935-42bd-be19-19540bd67907"
   },
   "outputs": [
    {
     "name": "stderr",
     "output_type": "stream",
     "text": [
      "loading configuration file ./qamodel/config.json\n",
      "Model config BertConfig {\n",
      "  \"_name_or_path\": \"/content/drive/MyDrive/Colab Notebooks/model/newmodel/\",\n",
      "  \"architectures\": [\n",
      "    \"BertForQuestionAnswering\"\n",
      "  ],\n",
      "  \"attention_probs_dropout_prob\": 0.1,\n",
      "  \"classifier_dropout\": null,\n",
      "  \"gradient_checkpointing\": false,\n",
      "  \"hidden_act\": \"gelu\",\n",
      "  \"hidden_dropout_prob\": 0.1,\n",
      "  \"hidden_size\": 512,\n",
      "  \"initializer_range\": 0.02,\n",
      "  \"intermediate_size\": 2048,\n",
      "  \"layer_norm_eps\": 1e-12,\n",
      "  \"max_position_embeddings\": 512,\n",
      "  \"model_type\": \"bert\",\n",
      "  \"num_attention_heads\": 8,\n",
      "  \"num_hidden_layers\": 8,\n",
      "  \"pad_token_id\": 0,\n",
      "  \"position_embedding_type\": \"absolute\",\n",
      "  \"torch_dtype\": \"float32\",\n",
      "  \"transformers_version\": \"4.10.2\",\n",
      "  \"type_vocab_size\": 2,\n",
      "  \"use_cache\": true,\n",
      "  \"vocab_size\": 75000\n",
      "}\n",
      "\n",
      "loading weights file ./qamodel/pytorch_model.bin\n",
      "All model checkpoint weights were used when initializing BertForQuestionAnswering.\n",
      "\n",
      "All the weights of BertForQuestionAnswering were initialized from the model checkpoint at ./qamodel/.\n",
      "If your task is similar to the task the model of the checkpoint was trained on, you can already use BertForQuestionAnswering for predictions without further training.\n",
      "Didn't find file ./qamodel/added_tokens.json. We won't load it.\n",
      "loading file ./qamodel/vocab.txt\n",
      "loading file ./qamodel/tokenizer.json\n",
      "loading file None\n",
      "loading file ./qamodel/special_tokens_map.json\n",
      "loading file ./qamodel/tokenizer_config.json\n"
     ]
    }
   ],
   "source": [
    "import numpy as np\n",
    "import torch\n",
    "from transformers import BertForQuestionAnswering, AutoTokenizer\n",
    "import transformers\n",
    "\n",
    "model = BertForQuestionAnswering.from_pretrained(savepath)\n",
    "\n",
    "tokenizer = AutoTokenizer.from_pretrained(savepath)   \n",
    "assert isinstance(tokenizer, transformers.PreTrainedTokenizerFast)"
   ]
  },
  {
   "cell_type": "code",
   "execution_count": 19,
   "metadata": {
    "cellView": "code",
    "colab": {
     "base_uri": "https://localhost:8080/"
    },
    "executionInfo": {
     "elapsed": 1316,
     "status": "ok",
     "timestamp": 1631542611624,
     "user": {
      "displayName": "Arnab Saha",
      "photoUrl": "https://lh3.googleusercontent.com/a-/AOh14GiD4TJ-wJULrSHWGnav3lCnSnwAsRA_pWP9O1pJAQ=s64",
      "userId": "06656585353086452374"
     },
     "user_tz": -360
    },
    "id": "5IO6W74qn5sd",
    "outputId": "b5b35d7e-a8b5-4f0f-8b7a-fcaa4db35542"
   },
   "outputs": [
    {
     "name": "stdout",
     "output_type": "stream",
     "text": [
      "Ques : বাংলাদেশ সেনাবাহিনীকে কয়টি মর্টার দিয়েছে?\n",
      "Ans:   ১২০ মিলিমিটার বযাসারধের ১৮টি\n",
      "Ques : বাংলাদেশ সেনাবাহিনীকে ভারত কি দিয়েছে?\n",
      "Ans:   মরটার\n",
      "Ques : বাংলাদেশ সেনাবাহিনীকে মর্টার কে দিয়েছে?\n",
      "Ans:   ভারত\n",
      "Ques : দুই দেশের সেনাবাহিনীর মধ্যে দ্বিপক্ষীয় সহযোগিতার অংশ কোনটি?\n",
      "Ans:   মরটার\n",
      "Ques : প্রধানমন্ত্রী শেখ হাসিনার সঙ্গে কার ভার্চ্যুয়াল বৈঠক হয়?\n",
      "Ans:   ভারতের পরধানমনতরী নরেনদর মোদির\n",
      "Ques : মিয়ানমারের ভারপ্রাপ্ত ভারতীয় পররাষ্ট্র মন্ত্রণালয়ের যুগ্ম সচিব কে\n",
      "Ans:   সমিতা পনথ\n",
      "Ques : স্মিতা পন্থ কে?\n",
      "Ans:   বাংলাদেশ ও মিযানমারের ভারপরাপত ভারতীয পররাষটর মনতরণালযের যগম সচিব\n",
      "Ques : মর্টারগুলো বাংলাদেশকে কেন দিয়েছে ভারত?\n",
      "Ans:   ১২০ মিলিমিটার বযাসারধের ১৮টি মরটার দিযেছে । এটা দই দেশের সেনাবাহিনীর মধযে দবিপকষীয সহযোগিতার অংশ বলে জানিযেছে ভারত । পরধানমনতরী শেখ হাসিনার সঙগে ভারতের পরধানমনতরী নরেনদর মোদির ভারচযযাল বৈঠকের পর বাংলাদেশ ও মিযানমারের ভারপরাপত ভারতীয পররাষটর মনতরণালযের যগম সচিব সমিতা পনথ আজ বহসপতিবার সনধযায সংবাদমাধযমকে এই তথয জানান । গতকাল বধবার বাংলাদেশের বিজয দিবস উদযাপন উপলকষে\n",
      "Ques : মর্টারগুলো বাংলাদেশকে কি উপলক্ষে দিয়েছে ভারত?\n",
      "Ans:   বিজয দিবস\n"
     ]
    }
   ],
   "source": [
    "''''বাংলাদেশ সেনাবাহিনীকে ভারত ১২০ মিলিমিটার ব্যাসার্ধের ১৮টি মর্টার দিয়েছে। এটা দুই দেশের সেনাবাহিনীর মধ্যে দ্বিপক্ষীয় সহযোগিতার অংশ বলে জানিয়েছে ভারত। \n",
    "প্রধানমন্ত্রী শেখ হাসিনার সঙ্গে ভারতের প্রধানমন্ত্রী নরেন্দ্র মোদির ভার্চ্যুয়াল বৈঠকের পর বাংলাদেশ ও মিয়ানমারের ভারপ্রাপ্ত ভারতীয় পররাষ্ট্র মন্ত্রণালয়ের যুগ্ম সচিব স্মিতা পন্থ আজ বৃহস্পতিবার সন্ধ্যায় সংবাদমাধ্যমকে \n",
    "এই তথ্য জানান। গতকাল বুধবার বাংলাদেশের বিজয় দিবস উদ্‌যাপন উপলক্ষে মর্টারগুলো বাংলাদেশকে দিয়েছে ভারত।'\n",
    "'''\n",
    "\n",
    "\n",
    "questions = ['বাংলাদেশ সেনাবাহিনীকে কয়টি মর্টার দিয়েছে?', \n",
    "             'বাংলাদেশ সেনাবাহিনীকে ভারত কি দিয়েছে?', \n",
    "             'বাংলাদেশ সেনাবাহিনীকে মর্টার কে দিয়েছে?',  \n",
    "             'দুই দেশের সেনাবাহিনীর মধ্যে দ্বিপক্ষীয় সহযোগিতার অংশ কোনটি?',\n",
    "             'প্রধানমন্ত্রী শেখ হাসিনার সঙ্গে কার ভার্চ্যুয়াল বৈঠক হয়?',\n",
    "             'মিয়ানমারের ভারপ্রাপ্ত ভারতীয় পররাষ্ট্র মন্ত্রণালয়ের যুগ্ম সচিব কে',\n",
    "             'স্মিতা পন্থ কে?', \n",
    "             'মর্টারগুলো বাংলাদেশকে কেন দিয়েছে ভারত?',\n",
    "             'মর্টারগুলো বাংলাদেশকে কি উপলক্ষে দিয়েছে ভারত?',\n",
    "             ]       \n",
    "\n",
    "question = 'মর্টারগুলো বাংলাদেশকে কি উপলক্ষে দিয়েছে ভারত?'\n",
    "paragraph = 'বাংলাদেশ সেনাবাহিনীকে ভারত ১২০ মিলিমিটার ব্যাসার্ধের ১৮টি মর্টার দিয়েছে। এটা দুই দেশের সেনাবাহিনীর মধ্যে দ্বিপক্ষীয় সহযোগিতার অংশ বলে জানিয়েছে ভারত। প্রধানমন্ত্রী শেখ হাসিনার সঙ্গে ভারতের প্রধানমন্ত্রী নরেন্দ্র মোদির ভার্চ্যুয়াল বৈঠকের পর বাংলাদেশ ও মিয়ানমারের ভারপ্রাপ্ত ভারতীয় পররাষ্ট্র মন্ত্রণালয়ের যুগ্ম সচিব স্মিতা পন্থ আজ বৃহস্পতিবার সন্ধ্যায় সংবাদমাধ্যমকে এই তথ্য জানান। গতকাল বুধবার বাংলাদেশের বিজয় দিবস উদ্‌যাপন উপলক্ষে মর্টারগুলো বাংলাদেশকে দিয়েছে ভারত।'\n",
    "\n",
    "for question in questions:\n",
    "    input = tokenizer(question, paragraph, add_special_tokens=True, return_tensors=\"pt\")\n",
    "    temp = input[\"input_ids\"].tolist()\n",
    "    input_ids = temp[0]\n",
    "    text_tokens = tokenizer.convert_ids_to_tokens(input_ids)\n",
    "    # print(inputs)\n",
    "    # tokenizer.decode(input_ids)\n",
    "    outputs = model(**input)\n",
    "    start_scores = outputs.start_logits\n",
    "    end_scores = outputs.end_logits\n",
    "\n",
    "    # print(start_scores, end_scores)\n",
    "\n",
    "    start_index = torch.argmax(start_scores)\n",
    "\n",
    "    end_index = torch.argmax(end_scores)\n",
    "\n",
    "    answer = ' '.join(text_tokens[start_index:end_index+1])\n",
    "    corrected_answer = ''\n",
    "\n",
    "    for word in answer.split():\n",
    "\n",
    "        #If it's a subword token\n",
    "        if word[0:2] == '##':\n",
    "            corrected_answer += word[2:]\n",
    "        else:\n",
    "            corrected_answer += ' ' + word\n",
    "\n",
    "    corrected_answer = corrected_answer\n",
    "    print('Ques :', question)\n",
    "    print('Ans: ', corrected_answer)"
   ]
  },
  {
   "cell_type": "markdown",
   "metadata": {
    "id": "Cchz8glEjdlk"
   },
   "source": [
    "# Validation"
   ]
  },
  {
   "cell_type": "code",
   "execution_count": 20,
   "metadata": {
    "colab": {
     "base_uri": "https://localhost:8080/"
    },
    "executionInfo": {
     "elapsed": 7,
     "status": "ok",
     "timestamp": 1631542611624,
     "user": {
      "displayName": "Arnab Saha",
      "photoUrl": "https://lh3.googleusercontent.com/a-/AOh14GiD4TJ-wJULrSHWGnav3lCnSnwAsRA_pWP9O1pJAQ=s64",
      "userId": "06656585353086452374"
     },
     "user_tz": -360
    },
    "id": "kY9NR8-6Qraa",
    "outputId": "b6fb6d22-ce3c-4ba5-8eb5-5a7e9437d363"
   },
   "outputs": [
    {
     "data": {
      "text/plain": [
       "(odict_keys(['loss', 'start_logits', 'end_logits']),\n",
       " torch.Size([8, 384]),\n",
       " torch.Size([8, 384]))"
      ]
     },
     "execution_count": 20,
     "metadata": {},
     "output_type": "execute_result"
    }
   ],
   "source": [
    "import torch\n",
    "\n",
    "for batch in trainer.get_train_dataloader():\n",
    "    break\n",
    "batch = {k: v.to(trainer.args.device) for k, v in batch.items()}\n",
    "with torch.no_grad():\n",
    "    output = trainer.model(**batch)\n",
    "    \n",
    "output.keys(), output.start_logits.shape, output.end_logits.shape"
   ]
  },
  {
   "cell_type": "code",
   "execution_count": 21,
   "metadata": {
    "colab": {
     "base_uri": "https://localhost:8080/"
    },
    "executionInfo": {
     "elapsed": 4,
     "status": "ok",
     "timestamp": 1631542611624,
     "user": {
      "displayName": "Arnab Saha",
      "photoUrl": "https://lh3.googleusercontent.com/a-/AOh14GiD4TJ-wJULrSHWGnav3lCnSnwAsRA_pWP9O1pJAQ=s64",
      "userId": "06656585353086452374"
     },
     "user_tz": -360
    },
    "id": "K3HocgYPQyv2",
    "outputId": "7fbee964-37e8-40d5-8690-bde562fbde5a"
   },
   "outputs": [
    {
     "data": {
      "text/plain": [
       "(tensor([ 52,  21,  47,  59,  90, 162,  11,  89], device='cuda:0'),\n",
       " tensor([ 54,  22,  51,  60,  91, 163,  11,  92], device='cuda:0'))"
      ]
     },
     "execution_count": 21,
     "metadata": {},
     "output_type": "execute_result"
    }
   ],
   "source": [
    "output.start_logits.argmax(dim=-1), output.end_logits.argmax(dim=-1)"
   ]
  },
  {
   "cell_type": "code",
   "execution_count": 22,
   "metadata": {
    "executionInfo": {
     "elapsed": 3,
     "status": "ok",
     "timestamp": 1631542611625,
     "user": {
      "displayName": "Arnab Saha",
      "photoUrl": "https://lh3.googleusercontent.com/a-/AOh14GiD4TJ-wJULrSHWGnav3lCnSnwAsRA_pWP9O1pJAQ=s64",
      "userId": "06656585353086452374"
     },
     "user_tz": -360
    },
    "id": "KoKCDyfYQoXc"
   },
   "outputs": [],
   "source": [
    "import numpy as np\n",
    "\n",
    "n_best_size = 20\n",
    "\n",
    "start_logits = output.start_logits[0].cpu().numpy()\n",
    "end_logits = output.end_logits[0].cpu().numpy()\n",
    "# Gather the indices the best start/end logits:\n",
    "start_indexes = np.argsort(start_logits)[-1 : -n_best_size - 1 : -1].tolist()\n",
    "end_indexes = np.argsort(end_logits)[-1 : -n_best_size - 1 : -1].tolist()\n",
    "valid_answers = []\n",
    "for start_index in start_indexes:\n",
    "    for end_index in end_indexes:\n",
    "        if start_index <= end_index: # We need to refine that test to check the answer is inside the context\n",
    "            valid_answers.append(\n",
    "                {\n",
    "                    \"score\": start_logits[start_index] + end_logits[end_index],\n",
    "                    \"text\": \"\" # We need to find a way to get back the original substring corresponding to the answer in the context\n",
    "                }\n",
    "            )"
   ]
  },
  {
   "cell_type": "code",
   "execution_count": 23,
   "metadata": {
    "executionInfo": {
     "elapsed": 614,
     "status": "ok",
     "timestamp": 1631542612236,
     "user": {
      "displayName": "Arnab Saha",
      "photoUrl": "https://lh3.googleusercontent.com/a-/AOh14GiD4TJ-wJULrSHWGnav3lCnSnwAsRA_pWP9O1pJAQ=s64",
      "userId": "06656585353086452374"
     },
     "user_tz": -360
    },
    "id": "d9p74A7yQ6VJ"
   },
   "outputs": [],
   "source": [
    "def prepare_validation_features(examples):\n",
    "    # Some of the questions have lots of whitespace on the left, which is not useful and will make the\n",
    "    # truncation of the context fail (the tokenized question will take a lots of space). So we remove that\n",
    "    # left whitespace\n",
    "    examples[\"question\"] = [q.lstrip() for q in examples[\"question\"]]\n",
    "\n",
    "    # Tokenize our examples with truncation and maybe padding, but keep the overflows using a stride. This results\n",
    "    # in one example possible giving several features when a context is long, each of those features having a\n",
    "    # context that overlaps a bit the context of the previous feature.\n",
    "    tokenized_examples = tokenizer(\n",
    "        examples[\"question\" if pad_on_right else \"context\"],\n",
    "        examples[\"context\" if pad_on_right else \"question\"],\n",
    "        truncation=\"only_second\" if pad_on_right else \"only_first\",\n",
    "        max_length=max_length,\n",
    "        stride=doc_stride,\n",
    "        return_overflowing_tokens=True,\n",
    "        return_offsets_mapping=True,\n",
    "        padding=\"max_length\",\n",
    "    )\n",
    "\n",
    "    # Since one example might give us several features if it has a long context, we need a map from a feature to\n",
    "    # its corresponding example. This key gives us just that.\n",
    "    sample_mapping = tokenized_examples.pop(\"overflow_to_sample_mapping\")\n",
    "\n",
    "    # We keep the example_id that gave us this feature and we will store the offset mappings.\n",
    "    tokenized_examples[\"example_id\"] = []\n",
    "\n",
    "    for i in range(len(tokenized_examples[\"input_ids\"])):\n",
    "        # Grab the sequence corresponding to that example (to know what is the context and what is the question).\n",
    "        sequence_ids = tokenized_examples.sequence_ids(i)\n",
    "        context_index = 1 if pad_on_right else 0\n",
    "\n",
    "        # One example can give several spans, this is the index of the example containing this span of text.\n",
    "        sample_index = sample_mapping[i]\n",
    "        tokenized_examples[\"example_id\"].append(examples[\"id\"][sample_index])\n",
    "\n",
    "        # Set to None the offset_mapping that are not part of the context so it's easy to determine if a token\n",
    "        # position is part of the context or not.\n",
    "        tokenized_examples[\"offset_mapping\"][i] = [\n",
    "            (o if sequence_ids[k] == context_index else None)\n",
    "            for k, o in enumerate(tokenized_examples[\"offset_mapping\"][i])\n",
    "        ]\n",
    "\n",
    "    return tokenized_examples"
   ]
  },
  {
   "cell_type": "code",
   "execution_count": 24,
   "metadata": {
    "colab": {
     "base_uri": "https://localhost:8080/",
     "height": 49,
     "referenced_widgets": [
      "5a365c88c7d94564b6042ac453f466a5",
      "7ee0c8b9f0b54b1b8573f93d1763c31f",
      "9bfa1b655e9f47d9b9ae75c10741d671",
      "44fe32bfb8ae42579197b863fb5bac0b",
      "93a32c3b5e9d44569776bb2ac164bfb6",
      "4c96a361198f4821902084bfd54e3c79",
      "58a6fabaab3b44c4b875daecf641b0ce",
      "9dcd758c6240463795936eebbb7802ae",
      "1ec6f04ab1c64926a0c2102ce754161e",
      "9a8c3722d60e416e86632babf3a150ec",
      "918cbdaf814b46b9b9f4c9e326919a3b"
     ]
    },
    "executionInfo": {
     "elapsed": 29980,
     "status": "ok",
     "timestamp": 1631542642210,
     "user": {
      "displayName": "Arnab Saha",
      "photoUrl": "https://lh3.googleusercontent.com/a-/AOh14GiD4TJ-wJULrSHWGnav3lCnSnwAsRA_pWP9O1pJAQ=s64",
      "userId": "06656585353086452374"
     },
     "user_tz": -360
    },
    "id": "V3Hz4D2jQ7kq",
    "outputId": "67131ade-e067-4dc4-c580-bb7f77d0d36e"
   },
   "outputs": [
    {
     "data": {
      "application/vnd.jupyter.widget-view+json": {
       "model_id": "5a365c88c7d94564b6042ac453f466a5",
       "version_major": 2,
       "version_minor": 0
      },
      "text/plain": [
       "  0%|          | 0/14 [00:00<?, ?ba/s]"
      ]
     },
     "metadata": {},
     "output_type": "display_data"
    }
   ],
   "source": [
    "validation_features = datasets[\"train\"].map(\n",
    "    prepare_validation_features,\n",
    "    batched=True,\n",
    "    remove_columns=datasets[\"train\"].column_names\n",
    ")"
   ]
  },
  {
   "cell_type": "code",
   "execution_count": 25,
   "metadata": {
    "colab": {
     "base_uri": "https://localhost:8080/",
     "height": 105
    },
    "executionInfo": {
     "elapsed": 227542,
     "status": "ok",
     "timestamp": 1631542869740,
     "user": {
      "displayName": "Arnab Saha",
      "photoUrl": "https://lh3.googleusercontent.com/a-/AOh14GiD4TJ-wJULrSHWGnav3lCnSnwAsRA_pWP9O1pJAQ=s64",
      "userId": "06656585353086452374"
     },
     "user_tz": -360
    },
    "id": "bOJHGYWrQ_x7",
    "outputId": "618a2883-49fc-44a0-d401-5c2839dd8091"
   },
   "outputs": [
    {
     "name": "stderr",
     "output_type": "stream",
     "text": [
      "The following columns in the test set  don't have a corresponding argument in `BertForQuestionAnswering.forward` and have been ignored: offset_mapping, example_id.\n",
      "***** Running Prediction *****\n",
      "  Num examples = 13115\n",
      "  Batch size = 8\n"
     ]
    },
    {
     "data": {
      "text/html": [
       "\n",
       "    <div>\n",
       "      \n",
       "      <progress value='1640' max='1640' style='width:300px; height:20px; vertical-align: middle;'></progress>\n",
       "      [1640/1640 03:47]\n",
       "    </div>\n",
       "    "
      ],
      "text/plain": [
       "<IPython.core.display.HTML object>"
      ]
     },
     "metadata": {},
     "output_type": "display_data"
    }
   ],
   "source": [
    "raw_predictions = trainer.predict(validation_features)"
   ]
  },
  {
   "cell_type": "code",
   "execution_count": 26,
   "metadata": {
    "colab": {
     "base_uri": "https://localhost:8080/"
    },
    "executionInfo": {
     "elapsed": 10,
     "status": "ok",
     "timestamp": 1631542869740,
     "user": {
      "displayName": "Arnab Saha",
      "photoUrl": "https://lh3.googleusercontent.com/a-/AOh14GiD4TJ-wJULrSHWGnav3lCnSnwAsRA_pWP9O1pJAQ=s64",
      "userId": "06656585353086452374"
     },
     "user_tz": -360
    },
    "id": "Mk9KsywoRB9_",
    "outputId": "9abe7ffd-c3ab-466f-9497-1456311aa6b7"
   },
   "outputs": [
    {
     "data": {
      "text/plain": [
       "[]"
      ]
     },
     "execution_count": 26,
     "metadata": {},
     "output_type": "execute_result"
    }
   ],
   "source": [
    "validation_features.set_format(type=validation_features.format[\"type\"], columns=list(validation_features.features.keys()))\n",
    "\n",
    "max_answer_length = 30\n",
    "\n",
    "start_logits = output.start_logits[0].cpu().numpy()\n",
    "end_logits = output.end_logits[0].cpu().numpy()\n",
    "offset_mapping = validation_features[0][\"offset_mapping\"]\n",
    "# The first feature comes from the first example. For the more general case, we will need to be match the example_id to\n",
    "# an example index\n",
    "context = datasets[\"train\"][0][\"context\"]\n",
    "\n",
    "# Gather the indices the best start/end logits:\n",
    "start_indexes = np.argsort(start_logits)[-1 : -n_best_size - 1 : -1].tolist()\n",
    "end_indexes = np.argsort(end_logits)[-1 : -n_best_size - 1 : -1].tolist()\n",
    "valid_answers = []\n",
    "for start_index in start_indexes:\n",
    "    for end_index in end_indexes:\n",
    "        # Don't consider out-of-scope answers, either because the indices are out of bounds or correspond\n",
    "        # to part of the input_ids that are not in the context.\n",
    "        if (\n",
    "            start_index >= len(offset_mapping)\n",
    "            or end_index >= len(offset_mapping)\n",
    "            or offset_mapping[start_index] is None\n",
    "            or offset_mapping[end_index] is None\n",
    "        ):\n",
    "            continue\n",
    "        # Don't consider answers with a length that is either < 0 or > max_answer_length.\n",
    "        if end_index < start_index or end_index - start_index + 1 > max_answer_length:\n",
    "            continue\n",
    "        if start_index <= end_index: # We need to refine that test to check the answer is inside the context\n",
    "            start_char = offset_mapping[start_index][0]\n",
    "            end_char = offset_mapping[end_index][1]\n",
    "            valid_answers.append(\n",
    "                {\n",
    "                    \"score\": start_logits[start_index] + end_logits[end_index],\n",
    "                    \"text\": context[start_char: end_char]\n",
    "                }\n",
    "            )\n",
    "\n",
    "valid_answers = sorted(valid_answers, key=lambda x: x[\"score\"], reverse=True)[:n_best_size]\n",
    "valid_answers"
   ]
  },
  {
   "cell_type": "code",
   "execution_count": 27,
   "metadata": {
    "executionInfo": {
     "elapsed": 12463,
     "status": "ok",
     "timestamp": 1631542882196,
     "user": {
      "displayName": "Arnab Saha",
      "photoUrl": "https://lh3.googleusercontent.com/a-/AOh14GiD4TJ-wJULrSHWGnav3lCnSnwAsRA_pWP9O1pJAQ=s64",
      "userId": "06656585353086452374"
     },
     "user_tz": -360
    },
    "id": "L60PFkpHTUmN"
   },
   "outputs": [],
   "source": [
    "import collections\n",
    "\n",
    "examples = datasets[\"train\"]\n",
    "features = validation_features\n",
    "\n",
    "example_id_to_index = {k: i for i, k in enumerate(examples[\"id\"])}\n",
    "features_per_example = collections.defaultdict(list)\n",
    "for i, feature in enumerate(features):\n",
    "    features_per_example[example_id_to_index[feature[\"example_id\"]]].append(i)"
   ]
  },
  {
   "cell_type": "code",
   "execution_count": 28,
   "metadata": {
    "executionInfo": {
     "elapsed": 9,
     "status": "ok",
     "timestamp": 1631542882196,
     "user": {
      "displayName": "Arnab Saha",
      "photoUrl": "https://lh3.googleusercontent.com/a-/AOh14GiD4TJ-wJULrSHWGnav3lCnSnwAsRA_pWP9O1pJAQ=s64",
      "userId": "06656585353086452374"
     },
     "user_tz": -360
    },
    "id": "qURPih_QTYx4"
   },
   "outputs": [],
   "source": [
    "from tqdm.auto import tqdm\n",
    "\n",
    "def postprocess_qa_predictions(examples, features, raw_predictions, n_best_size = 20, max_answer_length = 30):\n",
    "    all_start_logits, all_end_logits = raw_predictions\n",
    "    # Build a map example to its corresponding features.\n",
    "    example_id_to_index = {k: i for i, k in enumerate(examples[\"id\"])}\n",
    "    features_per_example = collections.defaultdict(list)\n",
    "    for i, feature in enumerate(features):\n",
    "        features_per_example[example_id_to_index[feature[\"example_id\"]]].append(i)\n",
    "\n",
    "    # The dictionaries we have to fill.\n",
    "    predictions = collections.OrderedDict()\n",
    "\n",
    "    # Logging.\n",
    "    print(f\"Post-processing {len(examples)} example predictions split into {len(features)} features.\")\n",
    "\n",
    "    # Let's loop over all the examples!\n",
    "    for example_index, example in enumerate(tqdm(examples)):\n",
    "        # Those are the indices of the features associated to the current example.\n",
    "        feature_indices = features_per_example[example_index]\n",
    "\n",
    "        min_null_score = None # Only used if squad_v2 is True.\n",
    "        valid_answers = []\n",
    "        \n",
    "        context = example[\"context\"]\n",
    "        # Looping through all the features associated to the current example.\n",
    "        for feature_index in feature_indices:\n",
    "            # We grab the predictions of the model for this feature.\n",
    "            start_logits = all_start_logits[feature_index]\n",
    "            end_logits = all_end_logits[feature_index]\n",
    "            # This is what will allow us to map some the positions in our logits to span of texts in the original\n",
    "            # context.\n",
    "            offset_mapping = features[feature_index][\"offset_mapping\"]\n",
    "\n",
    "            # Update minimum null prediction.\n",
    "            cls_index = features[feature_index][\"input_ids\"].index(tokenizer.cls_token_id)\n",
    "            feature_null_score = start_logits[cls_index] + end_logits[cls_index]\n",
    "            if min_null_score is None or min_null_score < feature_null_score:\n",
    "                min_null_score = feature_null_score\n",
    "\n",
    "            # Go through all possibilities for the `n_best_size` greater start and end logits.\n",
    "            start_indexes = np.argsort(start_logits)[-1 : -n_best_size - 1 : -1].tolist()\n",
    "            end_indexes = np.argsort(end_logits)[-1 : -n_best_size - 1 : -1].tolist()\n",
    "            for start_index in start_indexes:\n",
    "                for end_index in end_indexes:\n",
    "                    # Don't consider out-of-scope answers, either because the indices are out of bounds or correspond\n",
    "                    # to part of the input_ids that are not in the context.\n",
    "                    if (\n",
    "                        start_index >= len(offset_mapping)\n",
    "                        or end_index >= len(offset_mapping)\n",
    "                        or offset_mapping[start_index] is None\n",
    "                        or offset_mapping[end_index] is None\n",
    "                    ):\n",
    "                        continue\n",
    "                    # Don't consider answers with a length that is either < 0 or > max_answer_length.\n",
    "                    if end_index < start_index or end_index - start_index + 1 > max_answer_length:\n",
    "                        continue\n",
    "\n",
    "                    start_char = offset_mapping[start_index][0]\n",
    "                    end_char = offset_mapping[end_index][1]\n",
    "                    valid_answers.append(\n",
    "                        {\n",
    "                            \"score\": start_logits[start_index] + end_logits[end_index],\n",
    "                            \"text\": context[start_char: end_char]\n",
    "                        }\n",
    "                    )\n",
    "        \n",
    "        if len(valid_answers) > 0:\n",
    "            best_answer = sorted(valid_answers, key=lambda x: x[\"score\"], reverse=True)[0]\n",
    "        else:\n",
    "            # In the very rare edge case we have not a single non-null prediction, we create a fake prediction to avoid\n",
    "            # failure.\n",
    "            best_answer = {\"text\": \"\", \"score\": 0.0}\n",
    "        \n",
    "        # Let's pick our final answer: the best one or the null answer (only for squad_v2)\n",
    "        if not squad_v2:\n",
    "            predictions[example[\"id\"]] = best_answer[\"text\"]\n",
    "        else:\n",
    "            answer = best_answer[\"text\"] if best_answer[\"score\"] > min_null_score else \"\"\n",
    "            predictions[example[\"id\"]] = answer\n",
    "\n",
    "    return predictions"
   ]
  },
  {
   "cell_type": "code",
   "execution_count": 29,
   "metadata": {
    "colab": {
     "base_uri": "https://localhost:8080/",
     "height": 66,
     "referenced_widgets": [
      "ab42aa7d9ca64a7c8a472aa4302c2152",
      "0203b893d0284de69a442f67238fcd1a",
      "ddee5cb79d9b489b8247e727999d6a30",
      "fe7919cedb394dba9e83710a4596581a",
      "7be8bfdf531d4ea5ba3187b65a476727",
      "4ca147c3d703424ebeba6fe157b80464",
      "0882757c46d144028fac2761b20857a7",
      "f44f11d93aa2404b924b3f93c574304b",
      "47084d5a9f3644fea41aafa8a0bd4eb1",
      "a843fb7f3baf4f8f813c20837fba9fc9",
      "7d4987c0004948e2b259e43ee8dcbf24"
     ]
    },
    "executionInfo": {
     "elapsed": 45788,
     "status": "ok",
     "timestamp": 1631542927976,
     "user": {
      "displayName": "Arnab Saha",
      "photoUrl": "https://lh3.googleusercontent.com/a-/AOh14GiD4TJ-wJULrSHWGnav3lCnSnwAsRA_pWP9O1pJAQ=s64",
      "userId": "06656585353086452374"
     },
     "user_tz": -360
    },
    "id": "CfKLo-nWTd0y",
    "outputId": "20a4dfa0-1297-42bf-f629-3e0ab03e7985"
   },
   "outputs": [
    {
     "name": "stdout",
     "output_type": "stream",
     "text": [
      "Post-processing 13048 example predictions split into 13115 features.\n"
     ]
    },
    {
     "data": {
      "application/vnd.jupyter.widget-view+json": {
       "model_id": "ab42aa7d9ca64a7c8a472aa4302c2152",
       "version_major": 2,
       "version_minor": 0
      },
      "text/plain": [
       "  0%|          | 0/13048 [00:00<?, ?it/s]"
      ]
     },
     "metadata": {},
     "output_type": "display_data"
    }
   ],
   "source": [
    "final_predictions = postprocess_qa_predictions(datasets[\"train\"], validation_features, raw_predictions.predictions)"
   ]
  },
  {
   "cell_type": "code",
   "execution_count": 32,
   "metadata": {
    "colab": {
     "base_uri": "https://localhost:8080/",
     "height": 81,
     "referenced_widgets": [
      "f10c40841e6d42fd999a1f7a44242764",
      "c137e4d66e014b9eab4eb86c2809345d",
      "4c5d2af9fe3046bd9f711a739aa4ba40",
      "394c0621df0f4505b76f1e4538d9e0b5",
      "865b6edcaf2a492e95ef2028380ea3a5",
      "3b214739168f4b209f5007226b064e88",
      "322be086d80748c798b394f1c6efa3d1",
      "5d2e7e583d2949c38ad5a8e8fa048349",
      "757bfda779fd4ffd8aa29388b913fcf5",
      "1358a5635bfc4d3f9bc4ce32bf8f3f76",
      "c9ecc237cf2940d8a5a3e8a2c285d317",
      "621e6a679780406cbdc079b87def2160",
      "8d8e26cca6b84b358324a6ae39c0cc4a",
      "b886e3fbf74c4a04879373f42ca1a7b2",
      "d5d8e20a58c748a1a154538e8d55ebcb",
      "94a8d5d69da94310b6548b624d8cff1d",
      "969154b59a1b4811bd9d48bb4817f928",
      "e9fea97259c84c1ab1e87e35810b2ef8",
      "93ce9320bf574cf6b4d01741073df011",
      "fe3ad071b95046639361cc28fae2d3ea",
      "3b18f23b807d4a7689beedd145a0d38d",
      "7475a1437a3a4fc69c3f6f6f07e4ec75"
     ]
    },
    "executionInfo": {
     "elapsed": 1280,
     "status": "ok",
     "timestamp": 1631543138860,
     "user": {
      "displayName": "Arnab Saha",
      "photoUrl": "https://lh3.googleusercontent.com/a-/AOh14GiD4TJ-wJULrSHWGnav3lCnSnwAsRA_pWP9O1pJAQ=s64",
      "userId": "06656585353086452374"
     },
     "user_tz": -360
    },
    "id": "vSq0tqNkThzX",
    "outputId": "9aac079e-8de8-442b-e907-860daf69698e"
   },
   "outputs": [
    {
     "data": {
      "application/vnd.jupyter.widget-view+json": {
       "model_id": "f10c40841e6d42fd999a1f7a44242764",
       "version_major": 2,
       "version_minor": 0
      },
      "text/plain": [
       "Downloading:   0%|          | 0.00/1.73k [00:00<?, ?B/s]"
      ]
     },
     "metadata": {},
     "output_type": "display_data"
    },
    {
     "data": {
      "application/vnd.jupyter.widget-view+json": {
       "model_id": "621e6a679780406cbdc079b87def2160",
       "version_major": 2,
       "version_minor": 0
      },
      "text/plain": [
       "Downloading:   0%|          | 0.00/1.12k [00:00<?, ?B/s]"
      ]
     },
     "metadata": {},
     "output_type": "display_data"
    }
   ],
   "source": [
    "metric = load_metric('squad')"
   ]
  },
  {
   "cell_type": "code",
   "execution_count": 33,
   "metadata": {
    "colab": {
     "base_uri": "https://localhost:8080/"
    },
    "executionInfo": {
     "elapsed": 4127,
     "status": "ok",
     "timestamp": 1631543146397,
     "user": {
      "displayName": "Arnab Saha",
      "photoUrl": "https://lh3.googleusercontent.com/a-/AOh14GiD4TJ-wJULrSHWGnav3lCnSnwAsRA_pWP9O1pJAQ=s64",
      "userId": "06656585353086452374"
     },
     "user_tz": -360
    },
    "id": "XuFk4mh5TmX1",
    "outputId": "2eaf0efc-b844-4460-df06-5ba77237ff98"
   },
   "outputs": [
    {
     "data": {
      "text/plain": [
       "{'exact_match': 56.53740036787247, 'f1': 72.43036578481133}"
      ]
     },
     "execution_count": 33,
     "metadata": {},
     "output_type": "execute_result"
    }
   ],
   "source": [
    "if squad_v2:\n",
    "    formatted_predictions = [{\"id\": k, \"prediction_text\": v, \"no_answer_probability\": 0.0} for k, v in final_predictions.items()]\n",
    "else:\n",
    "    formatted_predictions = [{\"id\": k, \"prediction_text\": v} for k, v in final_predictions.items()]\n",
    "references = [{\"id\": ex[\"id\"], \"answers\": ex[\"answers\"]} for ex in datasets[\"train\"]]\n",
    "metric.compute(predictions=formatted_predictions, references=references)"
   ]
  }
 ],
 "metadata": {
  "accelerator": "GPU",
  "colab": {
   "collapsed_sections": [],
   "name": "training_script.ipynb",
   "provenance": []
  },
  "kernelspec": {
   "display_name": "Python 3",
   "language": "python",
   "name": "python3"
  },
  "language_info": {
   "codemirror_mode": {
    "name": "ipython",
    "version": 3
   },
   "file_extension": ".py",
   "mimetype": "text/x-python",
   "name": "python",
   "nbconvert_exporter": "python",
   "pygments_lexer": "ipython3",
   "version": "3.8.6"
  },
  "widgets": {
   "application/vnd.jupyter.widget-state+json": {
    "0203b893d0284de69a442f67238fcd1a": {
     "model_module": "@jupyter-widgets/base",
     "model_module_version": "1.2.0",
     "model_name": "LayoutModel",
     "state": {
      "_model_module": "@jupyter-widgets/base",
      "_model_module_version": "1.2.0",
      "_model_name": "LayoutModel",
      "_view_count": null,
      "_view_module": "@jupyter-widgets/base",
      "_view_module_version": "1.2.0",
      "_view_name": "LayoutView",
      "align_content": null,
      "align_items": null,
      "align_self": null,
      "border": null,
      "bottom": null,
      "display": null,
      "flex": null,
      "flex_flow": null,
      "grid_area": null,
      "grid_auto_columns": null,
      "grid_auto_flow": null,
      "grid_auto_rows": null,
      "grid_column": null,
      "grid_gap": null,
      "grid_row": null,
      "grid_template_areas": null,
      "grid_template_columns": null,
      "grid_template_rows": null,
      "height": null,
      "justify_content": null,
      "justify_items": null,
      "left": null,
      "margin": null,
      "max_height": null,
      "max_width": null,
      "min_height": null,
      "min_width": null,
      "object_fit": null,
      "object_position": null,
      "order": null,
      "overflow": null,
      "overflow_x": null,
      "overflow_y": null,
      "padding": null,
      "right": null,
      "top": null,
      "visibility": null,
      "width": null
     }
    },
    "0882757c46d144028fac2761b20857a7": {
     "model_module": "@jupyter-widgets/base",
     "model_module_version": "1.2.0",
     "model_name": "LayoutModel",
     "state": {
      "_model_module": "@jupyter-widgets/base",
      "_model_module_version": "1.2.0",
      "_model_name": "LayoutModel",
      "_view_count": null,
      "_view_module": "@jupyter-widgets/base",
      "_view_module_version": "1.2.0",
      "_view_name": "LayoutView",
      "align_content": null,
      "align_items": null,
      "align_self": null,
      "border": null,
      "bottom": null,
      "display": null,
      "flex": null,
      "flex_flow": null,
      "grid_area": null,
      "grid_auto_columns": null,
      "grid_auto_flow": null,
      "grid_auto_rows": null,
      "grid_column": null,
      "grid_gap": null,
      "grid_row": null,
      "grid_template_areas": null,
      "grid_template_columns": null,
      "grid_template_rows": null,
      "height": null,
      "justify_content": null,
      "justify_items": null,
      "left": null,
      "margin": null,
      "max_height": null,
      "max_width": null,
      "min_height": null,
      "min_width": null,
      "object_fit": null,
      "object_position": null,
      "order": null,
      "overflow": null,
      "overflow_x": null,
      "overflow_y": null,
      "padding": null,
      "right": null,
      "top": null,
      "visibility": null,
      "width": null
     }
    },
    "1358a5635bfc4d3f9bc4ce32bf8f3f76": {
     "model_module": "@jupyter-widgets/controls",
     "model_module_version": "1.5.0",
     "model_name": "DescriptionStyleModel",
     "state": {
      "_model_module": "@jupyter-widgets/controls",
      "_model_module_version": "1.5.0",
      "_model_name": "DescriptionStyleModel",
      "_view_count": null,
      "_view_module": "@jupyter-widgets/base",
      "_view_module_version": "1.2.0",
      "_view_name": "StyleView",
      "description_width": ""
     }
    },
    "158c251a542f4482b9687575474e17b5": {
     "model_module": "@jupyter-widgets/controls",
     "model_module_version": "1.5.0",
     "model_name": "HTMLModel",
     "state": {
      "_dom_classes": [],
      "_model_module": "@jupyter-widgets/controls",
      "_model_module_version": "1.5.0",
      "_model_name": "HTMLModel",
      "_view_count": null,
      "_view_module": "@jupyter-widgets/controls",
      "_view_module_version": "1.5.0",
      "_view_name": "HTMLView",
      "description": "",
      "description_tooltip": null,
      "layout": "IPY_MODEL_cfa6f4404a0f43ca9ab7549207edb6c0",
      "placeholder": "​",
      "style": "IPY_MODEL_e099170211ec4be7ac597498f3921e0a",
      "value": " 11438/0 [00:01&lt;00:00, 9548.46 examples/s]"
     }
    },
    "188915bee2f94aeaa790c6f152714ec9": {
     "model_module": "@jupyter-widgets/controls",
     "model_module_version": "1.5.0",
     "model_name": "HBoxModel",
     "state": {
      "_dom_classes": [],
      "_model_module": "@jupyter-widgets/controls",
      "_model_module_version": "1.5.0",
      "_model_name": "HBoxModel",
      "_view_count": null,
      "_view_module": "@jupyter-widgets/controls",
      "_view_module_version": "1.5.0",
      "_view_name": "HBoxView",
      "box_style": "",
      "children": [
       "IPY_MODEL_beef4bd2c38b44f0ba2486001da2449d",
       "IPY_MODEL_9a3b707c83d74094857bae5dea355f4c",
       "IPY_MODEL_a4e788cecad34a76a085439b7ffbf6c1"
      ],
      "layout": "IPY_MODEL_1d7de521477a48b991a5e143445dfab0"
     }
    },
    "195010b7ae674471b85ce02d6eeae9b5": {
     "model_module": "@jupyter-widgets/controls",
     "model_module_version": "1.5.0",
     "model_name": "DescriptionStyleModel",
     "state": {
      "_model_module": "@jupyter-widgets/controls",
      "_model_module_version": "1.5.0",
      "_model_name": "DescriptionStyleModel",
      "_view_count": null,
      "_view_module": "@jupyter-widgets/base",
      "_view_module_version": "1.2.0",
      "_view_name": "StyleView",
      "description_width": ""
     }
    },
    "1d7de521477a48b991a5e143445dfab0": {
     "model_module": "@jupyter-widgets/base",
     "model_module_version": "1.2.0",
     "model_name": "LayoutModel",
     "state": {
      "_model_module": "@jupyter-widgets/base",
      "_model_module_version": "1.2.0",
      "_model_name": "LayoutModel",
      "_view_count": null,
      "_view_module": "@jupyter-widgets/base",
      "_view_module_version": "1.2.0",
      "_view_name": "LayoutView",
      "align_content": null,
      "align_items": null,
      "align_self": null,
      "border": null,
      "bottom": null,
      "display": null,
      "flex": null,
      "flex_flow": null,
      "grid_area": null,
      "grid_auto_columns": null,
      "grid_auto_flow": null,
      "grid_auto_rows": null,
      "grid_column": null,
      "grid_gap": null,
      "grid_row": null,
      "grid_template_areas": null,
      "grid_template_columns": null,
      "grid_template_rows": null,
      "height": null,
      "justify_content": null,
      "justify_items": null,
      "left": null,
      "margin": null,
      "max_height": null,
      "max_width": null,
      "min_height": null,
      "min_width": null,
      "object_fit": null,
      "object_position": null,
      "order": null,
      "overflow": null,
      "overflow_x": null,
      "overflow_y": null,
      "padding": null,
      "right": null,
      "top": null,
      "visibility": null,
      "width": null
     }
    },
    "1ec6f04ab1c64926a0c2102ce754161e": {
     "model_module": "@jupyter-widgets/base",
     "model_module_version": "1.2.0",
     "model_name": "LayoutModel",
     "state": {
      "_model_module": "@jupyter-widgets/base",
      "_model_module_version": "1.2.0",
      "_model_name": "LayoutModel",
      "_view_count": null,
      "_view_module": "@jupyter-widgets/base",
      "_view_module_version": "1.2.0",
      "_view_name": "LayoutView",
      "align_content": null,
      "align_items": null,
      "align_self": null,
      "border": null,
      "bottom": null,
      "display": null,
      "flex": null,
      "flex_flow": null,
      "grid_area": null,
      "grid_auto_columns": null,
      "grid_auto_flow": null,
      "grid_auto_rows": null,
      "grid_column": null,
      "grid_gap": null,
      "grid_row": null,
      "grid_template_areas": null,
      "grid_template_columns": null,
      "grid_template_rows": null,
      "height": null,
      "justify_content": null,
      "justify_items": null,
      "left": null,
      "margin": null,
      "max_height": null,
      "max_width": null,
      "min_height": null,
      "min_width": null,
      "object_fit": null,
      "object_position": null,
      "order": null,
      "overflow": null,
      "overflow_x": null,
      "overflow_y": null,
      "padding": null,
      "right": null,
      "top": null,
      "visibility": null,
      "width": null
     }
    },
    "2394558f72fa4e55a02ba6bc821dc550": {
     "model_module": "@jupyter-widgets/controls",
     "model_module_version": "1.5.0",
     "model_name": "HBoxModel",
     "state": {
      "_dom_classes": [],
      "_model_module": "@jupyter-widgets/controls",
      "_model_module_version": "1.5.0",
      "_model_name": "HBoxModel",
      "_view_count": null,
      "_view_module": "@jupyter-widgets/controls",
      "_view_module_version": "1.5.0",
      "_view_name": "HBoxView",
      "box_style": "",
      "children": [
       "IPY_MODEL_e6769218f29942aa9845775217623dda",
       "IPY_MODEL_816d197e4c62426a99e565b4bb6de435",
       "IPY_MODEL_158c251a542f4482b9687575474e17b5"
      ],
      "layout": "IPY_MODEL_4978a8a0027044c5bf72326acd28d65b"
     }
    },
    "322be086d80748c798b394f1c6efa3d1": {
     "model_module": "@jupyter-widgets/base",
     "model_module_version": "1.2.0",
     "model_name": "LayoutModel",
     "state": {
      "_model_module": "@jupyter-widgets/base",
      "_model_module_version": "1.2.0",
      "_model_name": "LayoutModel",
      "_view_count": null,
      "_view_module": "@jupyter-widgets/base",
      "_view_module_version": "1.2.0",
      "_view_name": "LayoutView",
      "align_content": null,
      "align_items": null,
      "align_self": null,
      "border": null,
      "bottom": null,
      "display": null,
      "flex": null,
      "flex_flow": null,
      "grid_area": null,
      "grid_auto_columns": null,
      "grid_auto_flow": null,
      "grid_auto_rows": null,
      "grid_column": null,
      "grid_gap": null,
      "grid_row": null,
      "grid_template_areas": null,
      "grid_template_columns": null,
      "grid_template_rows": null,
      "height": null,
      "justify_content": null,
      "justify_items": null,
      "left": null,
      "margin": null,
      "max_height": null,
      "max_width": null,
      "min_height": null,
      "min_width": null,
      "object_fit": null,
      "object_position": null,
      "order": null,
      "overflow": null,
      "overflow_x": null,
      "overflow_y": null,
      "padding": null,
      "right": null,
      "top": null,
      "visibility": null,
      "width": null
     }
    },
    "394c0621df0f4505b76f1e4538d9e0b5": {
     "model_module": "@jupyter-widgets/controls",
     "model_module_version": "1.5.0",
     "model_name": "FloatProgressModel",
     "state": {
      "_dom_classes": [],
      "_model_module": "@jupyter-widgets/controls",
      "_model_module_version": "1.5.0",
      "_model_name": "FloatProgressModel",
      "_view_count": null,
      "_view_module": "@jupyter-widgets/controls",
      "_view_module_version": "1.5.0",
      "_view_name": "ProgressView",
      "bar_style": "success",
      "description": "",
      "description_tooltip": null,
      "layout": "IPY_MODEL_757bfda779fd4ffd8aa29388b913fcf5",
      "max": 1726,
      "min": 0,
      "orientation": "horizontal",
      "style": "IPY_MODEL_5d2e7e583d2949c38ad5a8e8fa048349",
      "value": 1726
     }
    },
    "3b18f23b807d4a7689beedd145a0d38d": {
     "model_module": "@jupyter-widgets/controls",
     "model_module_version": "1.5.0",
     "model_name": "DescriptionStyleModel",
     "state": {
      "_model_module": "@jupyter-widgets/controls",
      "_model_module_version": "1.5.0",
      "_model_name": "DescriptionStyleModel",
      "_view_count": null,
      "_view_module": "@jupyter-widgets/base",
      "_view_module_version": "1.2.0",
      "_view_name": "StyleView",
      "description_width": ""
     }
    },
    "3b214739168f4b209f5007226b064e88": {
     "model_module": "@jupyter-widgets/controls",
     "model_module_version": "1.5.0",
     "model_name": "DescriptionStyleModel",
     "state": {
      "_model_module": "@jupyter-widgets/controls",
      "_model_module_version": "1.5.0",
      "_model_name": "DescriptionStyleModel",
      "_view_count": null,
      "_view_module": "@jupyter-widgets/base",
      "_view_module_version": "1.2.0",
      "_view_name": "StyleView",
      "description_width": ""
     }
    },
    "44fe32bfb8ae42579197b863fb5bac0b": {
     "model_module": "@jupyter-widgets/controls",
     "model_module_version": "1.5.0",
     "model_name": "FloatProgressModel",
     "state": {
      "_dom_classes": [],
      "_model_module": "@jupyter-widgets/controls",
      "_model_module_version": "1.5.0",
      "_model_name": "FloatProgressModel",
      "_view_count": null,
      "_view_module": "@jupyter-widgets/controls",
      "_view_module_version": "1.5.0",
      "_view_name": "ProgressView",
      "bar_style": "success",
      "description": "",
      "description_tooltip": null,
      "layout": "IPY_MODEL_1ec6f04ab1c64926a0c2102ce754161e",
      "max": 14,
      "min": 0,
      "orientation": "horizontal",
      "style": "IPY_MODEL_9dcd758c6240463795936eebbb7802ae",
      "value": 14
     }
    },
    "47084d5a9f3644fea41aafa8a0bd4eb1": {
     "model_module": "@jupyter-widgets/base",
     "model_module_version": "1.2.0",
     "model_name": "LayoutModel",
     "state": {
      "_model_module": "@jupyter-widgets/base",
      "_model_module_version": "1.2.0",
      "_model_name": "LayoutModel",
      "_view_count": null,
      "_view_module": "@jupyter-widgets/base",
      "_view_module_version": "1.2.0",
      "_view_name": "LayoutView",
      "align_content": null,
      "align_items": null,
      "align_self": null,
      "border": null,
      "bottom": null,
      "display": null,
      "flex": null,
      "flex_flow": null,
      "grid_area": null,
      "grid_auto_columns": null,
      "grid_auto_flow": null,
      "grid_auto_rows": null,
      "grid_column": null,
      "grid_gap": null,
      "grid_row": null,
      "grid_template_areas": null,
      "grid_template_columns": null,
      "grid_template_rows": null,
      "height": null,
      "justify_content": null,
      "justify_items": null,
      "left": null,
      "margin": null,
      "max_height": null,
      "max_width": null,
      "min_height": null,
      "min_width": null,
      "object_fit": null,
      "object_position": null,
      "order": null,
      "overflow": null,
      "overflow_x": null,
      "overflow_y": null,
      "padding": null,
      "right": null,
      "top": null,
      "visibility": null,
      "width": null
     }
    },
    "4978a8a0027044c5bf72326acd28d65b": {
     "model_module": "@jupyter-widgets/base",
     "model_module_version": "1.2.0",
     "model_name": "LayoutModel",
     "state": {
      "_model_module": "@jupyter-widgets/base",
      "_model_module_version": "1.2.0",
      "_model_name": "LayoutModel",
      "_view_count": null,
      "_view_module": "@jupyter-widgets/base",
      "_view_module_version": "1.2.0",
      "_view_name": "LayoutView",
      "align_content": null,
      "align_items": null,
      "align_self": null,
      "border": null,
      "bottom": null,
      "display": null,
      "flex": null,
      "flex_flow": null,
      "grid_area": null,
      "grid_auto_columns": null,
      "grid_auto_flow": null,
      "grid_auto_rows": null,
      "grid_column": null,
      "grid_gap": null,
      "grid_row": null,
      "grid_template_areas": null,
      "grid_template_columns": null,
      "grid_template_rows": null,
      "height": null,
      "justify_content": null,
      "justify_items": null,
      "left": null,
      "margin": null,
      "max_height": null,
      "max_width": null,
      "min_height": null,
      "min_width": null,
      "object_fit": null,
      "object_position": null,
      "order": null,
      "overflow": null,
      "overflow_x": null,
      "overflow_y": null,
      "padding": null,
      "right": null,
      "top": null,
      "visibility": null,
      "width": null
     }
    },
    "4c5d2af9fe3046bd9f711a739aa4ba40": {
     "model_module": "@jupyter-widgets/controls",
     "model_module_version": "1.5.0",
     "model_name": "HTMLModel",
     "state": {
      "_dom_classes": [],
      "_model_module": "@jupyter-widgets/controls",
      "_model_module_version": "1.5.0",
      "_model_name": "HTMLModel",
      "_view_count": null,
      "_view_module": "@jupyter-widgets/controls",
      "_view_module_version": "1.5.0",
      "_view_name": "HTMLView",
      "description": "",
      "description_tooltip": null,
      "layout": "IPY_MODEL_322be086d80748c798b394f1c6efa3d1",
      "placeholder": "​",
      "style": "IPY_MODEL_3b214739168f4b209f5007226b064e88",
      "value": "Downloading: "
     }
    },
    "4c96a361198f4821902084bfd54e3c79": {
     "model_module": "@jupyter-widgets/controls",
     "model_module_version": "1.5.0",
     "model_name": "DescriptionStyleModel",
     "state": {
      "_model_module": "@jupyter-widgets/controls",
      "_model_module_version": "1.5.0",
      "_model_name": "DescriptionStyleModel",
      "_view_count": null,
      "_view_module": "@jupyter-widgets/base",
      "_view_module_version": "1.2.0",
      "_view_name": "StyleView",
      "description_width": ""
     }
    },
    "4ca147c3d703424ebeba6fe157b80464": {
     "model_module": "@jupyter-widgets/controls",
     "model_module_version": "1.5.0",
     "model_name": "DescriptionStyleModel",
     "state": {
      "_model_module": "@jupyter-widgets/controls",
      "_model_module_version": "1.5.0",
      "_model_name": "DescriptionStyleModel",
      "_view_count": null,
      "_view_module": "@jupyter-widgets/base",
      "_view_module_version": "1.2.0",
      "_view_name": "StyleView",
      "description_width": ""
     }
    },
    "58a6fabaab3b44c4b875daecf641b0ce": {
     "model_module": "@jupyter-widgets/base",
     "model_module_version": "1.2.0",
     "model_name": "LayoutModel",
     "state": {
      "_model_module": "@jupyter-widgets/base",
      "_model_module_version": "1.2.0",
      "_model_name": "LayoutModel",
      "_view_count": null,
      "_view_module": "@jupyter-widgets/base",
      "_view_module_version": "1.2.0",
      "_view_name": "LayoutView",
      "align_content": null,
      "align_items": null,
      "align_self": null,
      "border": null,
      "bottom": null,
      "display": null,
      "flex": null,
      "flex_flow": null,
      "grid_area": null,
      "grid_auto_columns": null,
      "grid_auto_flow": null,
      "grid_auto_rows": null,
      "grid_column": null,
      "grid_gap": null,
      "grid_row": null,
      "grid_template_areas": null,
      "grid_template_columns": null,
      "grid_template_rows": null,
      "height": null,
      "justify_content": null,
      "justify_items": null,
      "left": null,
      "margin": null,
      "max_height": null,
      "max_width": null,
      "min_height": null,
      "min_width": null,
      "object_fit": null,
      "object_position": null,
      "order": null,
      "overflow": null,
      "overflow_x": null,
      "overflow_y": null,
      "padding": null,
      "right": null,
      "top": null,
      "visibility": null,
      "width": null
     }
    },
    "5a365c88c7d94564b6042ac453f466a5": {
     "model_module": "@jupyter-widgets/controls",
     "model_module_version": "1.5.0",
     "model_name": "HBoxModel",
     "state": {
      "_dom_classes": [],
      "_model_module": "@jupyter-widgets/controls",
      "_model_module_version": "1.5.0",
      "_model_name": "HBoxModel",
      "_view_count": null,
      "_view_module": "@jupyter-widgets/controls",
      "_view_module_version": "1.5.0",
      "_view_name": "HBoxView",
      "box_style": "",
      "children": [
       "IPY_MODEL_9bfa1b655e9f47d9b9ae75c10741d671",
       "IPY_MODEL_44fe32bfb8ae42579197b863fb5bac0b",
       "IPY_MODEL_93a32c3b5e9d44569776bb2ac164bfb6"
      ],
      "layout": "IPY_MODEL_7ee0c8b9f0b54b1b8573f93d1763c31f"
     }
    },
    "5d2e7e583d2949c38ad5a8e8fa048349": {
     "model_module": "@jupyter-widgets/controls",
     "model_module_version": "1.5.0",
     "model_name": "ProgressStyleModel",
     "state": {
      "_model_module": "@jupyter-widgets/controls",
      "_model_module_version": "1.5.0",
      "_model_name": "ProgressStyleModel",
      "_view_count": null,
      "_view_module": "@jupyter-widgets/base",
      "_view_module_version": "1.2.0",
      "_view_name": "StyleView",
      "bar_color": null,
      "description_width": ""
     }
    },
    "621e6a679780406cbdc079b87def2160": {
     "model_module": "@jupyter-widgets/controls",
     "model_module_version": "1.5.0",
     "model_name": "HBoxModel",
     "state": {
      "_dom_classes": [],
      "_model_module": "@jupyter-widgets/controls",
      "_model_module_version": "1.5.0",
      "_model_name": "HBoxModel",
      "_view_count": null,
      "_view_module": "@jupyter-widgets/controls",
      "_view_module_version": "1.5.0",
      "_view_name": "HBoxView",
      "box_style": "",
      "children": [
       "IPY_MODEL_b886e3fbf74c4a04879373f42ca1a7b2",
       "IPY_MODEL_d5d8e20a58c748a1a154538e8d55ebcb",
       "IPY_MODEL_94a8d5d69da94310b6548b624d8cff1d"
      ],
      "layout": "IPY_MODEL_8d8e26cca6b84b358324a6ae39c0cc4a"
     }
    },
    "632565d76d7b4ba5a7a699af4670b10e": {
     "model_module": "@jupyter-widgets/base",
     "model_module_version": "1.2.0",
     "model_name": "LayoutModel",
     "state": {
      "_model_module": "@jupyter-widgets/base",
      "_model_module_version": "1.2.0",
      "_model_name": "LayoutModel",
      "_view_count": null,
      "_view_module": "@jupyter-widgets/base",
      "_view_module_version": "1.2.0",
      "_view_name": "LayoutView",
      "align_content": null,
      "align_items": null,
      "align_self": null,
      "border": null,
      "bottom": null,
      "display": null,
      "flex": null,
      "flex_flow": null,
      "grid_area": null,
      "grid_auto_columns": null,
      "grid_auto_flow": null,
      "grid_auto_rows": null,
      "grid_column": null,
      "grid_gap": null,
      "grid_row": null,
      "grid_template_areas": null,
      "grid_template_columns": null,
      "grid_template_rows": null,
      "height": null,
      "justify_content": null,
      "justify_items": null,
      "left": null,
      "margin": null,
      "max_height": null,
      "max_width": null,
      "min_height": null,
      "min_width": null,
      "object_fit": null,
      "object_position": null,
      "order": null,
      "overflow": null,
      "overflow_x": null,
      "overflow_y": null,
      "padding": null,
      "right": null,
      "top": null,
      "visibility": null,
      "width": null
     }
    },
    "6509705d16fd4673bf7e63b5cc90f9f7": {
     "model_module": "@jupyter-widgets/controls",
     "model_module_version": "1.5.0",
     "model_name": "DescriptionStyleModel",
     "state": {
      "_model_module": "@jupyter-widgets/controls",
      "_model_module_version": "1.5.0",
      "_model_name": "DescriptionStyleModel",
      "_view_count": null,
      "_view_module": "@jupyter-widgets/base",
      "_view_module_version": "1.2.0",
      "_view_name": "StyleView",
      "description_width": ""
     }
    },
    "718d9323c54d4ff7a56c8e089397854a": {
     "model_module": "@jupyter-widgets/base",
     "model_module_version": "1.2.0",
     "model_name": "LayoutModel",
     "state": {
      "_model_module": "@jupyter-widgets/base",
      "_model_module_version": "1.2.0",
      "_model_name": "LayoutModel",
      "_view_count": null,
      "_view_module": "@jupyter-widgets/base",
      "_view_module_version": "1.2.0",
      "_view_name": "LayoutView",
      "align_content": null,
      "align_items": null,
      "align_self": null,
      "border": null,
      "bottom": null,
      "display": null,
      "flex": null,
      "flex_flow": null,
      "grid_area": null,
      "grid_auto_columns": null,
      "grid_auto_flow": null,
      "grid_auto_rows": null,
      "grid_column": null,
      "grid_gap": null,
      "grid_row": null,
      "grid_template_areas": null,
      "grid_template_columns": null,
      "grid_template_rows": null,
      "height": null,
      "justify_content": null,
      "justify_items": null,
      "left": null,
      "margin": null,
      "max_height": null,
      "max_width": null,
      "min_height": null,
      "min_width": null,
      "object_fit": null,
      "object_position": null,
      "order": null,
      "overflow": null,
      "overflow_x": null,
      "overflow_y": null,
      "padding": null,
      "right": null,
      "top": null,
      "visibility": null,
      "width": "20px"
     }
    },
    "7475a1437a3a4fc69c3f6f6f07e4ec75": {
     "model_module": "@jupyter-widgets/base",
     "model_module_version": "1.2.0",
     "model_name": "LayoutModel",
     "state": {
      "_model_module": "@jupyter-widgets/base",
      "_model_module_version": "1.2.0",
      "_model_name": "LayoutModel",
      "_view_count": null,
      "_view_module": "@jupyter-widgets/base",
      "_view_module_version": "1.2.0",
      "_view_name": "LayoutView",
      "align_content": null,
      "align_items": null,
      "align_self": null,
      "border": null,
      "bottom": null,
      "display": null,
      "flex": null,
      "flex_flow": null,
      "grid_area": null,
      "grid_auto_columns": null,
      "grid_auto_flow": null,
      "grid_auto_rows": null,
      "grid_column": null,
      "grid_gap": null,
      "grid_row": null,
      "grid_template_areas": null,
      "grid_template_columns": null,
      "grid_template_rows": null,
      "height": null,
      "justify_content": null,
      "justify_items": null,
      "left": null,
      "margin": null,
      "max_height": null,
      "max_width": null,
      "min_height": null,
      "min_width": null,
      "object_fit": null,
      "object_position": null,
      "order": null,
      "overflow": null,
      "overflow_x": null,
      "overflow_y": null,
      "padding": null,
      "right": null,
      "top": null,
      "visibility": null,
      "width": null
     }
    },
    "757bfda779fd4ffd8aa29388b913fcf5": {
     "model_module": "@jupyter-widgets/base",
     "model_module_version": "1.2.0",
     "model_name": "LayoutModel",
     "state": {
      "_model_module": "@jupyter-widgets/base",
      "_model_module_version": "1.2.0",
      "_model_name": "LayoutModel",
      "_view_count": null,
      "_view_module": "@jupyter-widgets/base",
      "_view_module_version": "1.2.0",
      "_view_name": "LayoutView",
      "align_content": null,
      "align_items": null,
      "align_self": null,
      "border": null,
      "bottom": null,
      "display": null,
      "flex": null,
      "flex_flow": null,
      "grid_area": null,
      "grid_auto_columns": null,
      "grid_auto_flow": null,
      "grid_auto_rows": null,
      "grid_column": null,
      "grid_gap": null,
      "grid_row": null,
      "grid_template_areas": null,
      "grid_template_columns": null,
      "grid_template_rows": null,
      "height": null,
      "justify_content": null,
      "justify_items": null,
      "left": null,
      "margin": null,
      "max_height": null,
      "max_width": null,
      "min_height": null,
      "min_width": null,
      "object_fit": null,
      "object_position": null,
      "order": null,
      "overflow": null,
      "overflow_x": null,
      "overflow_y": null,
      "padding": null,
      "right": null,
      "top": null,
      "visibility": null,
      "width": null
     }
    },
    "7be8bfdf531d4ea5ba3187b65a476727": {
     "model_module": "@jupyter-widgets/controls",
     "model_module_version": "1.5.0",
     "model_name": "HTMLModel",
     "state": {
      "_dom_classes": [],
      "_model_module": "@jupyter-widgets/controls",
      "_model_module_version": "1.5.0",
      "_model_name": "HTMLModel",
      "_view_count": null,
      "_view_module": "@jupyter-widgets/controls",
      "_view_module_version": "1.5.0",
      "_view_name": "HTMLView",
      "description": "",
      "description_tooltip": null,
      "layout": "IPY_MODEL_7d4987c0004948e2b259e43ee8dcbf24",
      "placeholder": "​",
      "style": "IPY_MODEL_a843fb7f3baf4f8f813c20837fba9fc9",
      "value": " 13048/13048 [00:33&lt;00:00, 352.96it/s]"
     }
    },
    "7d4987c0004948e2b259e43ee8dcbf24": {
     "model_module": "@jupyter-widgets/base",
     "model_module_version": "1.2.0",
     "model_name": "LayoutModel",
     "state": {
      "_model_module": "@jupyter-widgets/base",
      "_model_module_version": "1.2.0",
      "_model_name": "LayoutModel",
      "_view_count": null,
      "_view_module": "@jupyter-widgets/base",
      "_view_module_version": "1.2.0",
      "_view_name": "LayoutView",
      "align_content": null,
      "align_items": null,
      "align_self": null,
      "border": null,
      "bottom": null,
      "display": null,
      "flex": null,
      "flex_flow": null,
      "grid_area": null,
      "grid_auto_columns": null,
      "grid_auto_flow": null,
      "grid_auto_rows": null,
      "grid_column": null,
      "grid_gap": null,
      "grid_row": null,
      "grid_template_areas": null,
      "grid_template_columns": null,
      "grid_template_rows": null,
      "height": null,
      "justify_content": null,
      "justify_items": null,
      "left": null,
      "margin": null,
      "max_height": null,
      "max_width": null,
      "min_height": null,
      "min_width": null,
      "object_fit": null,
      "object_position": null,
      "order": null,
      "overflow": null,
      "overflow_x": null,
      "overflow_y": null,
      "padding": null,
      "right": null,
      "top": null,
      "visibility": null,
      "width": null
     }
    },
    "7ee0c8b9f0b54b1b8573f93d1763c31f": {
     "model_module": "@jupyter-widgets/base",
     "model_module_version": "1.2.0",
     "model_name": "LayoutModel",
     "state": {
      "_model_module": "@jupyter-widgets/base",
      "_model_module_version": "1.2.0",
      "_model_name": "LayoutModel",
      "_view_count": null,
      "_view_module": "@jupyter-widgets/base",
      "_view_module_version": "1.2.0",
      "_view_name": "LayoutView",
      "align_content": null,
      "align_items": null,
      "align_self": null,
      "border": null,
      "bottom": null,
      "display": null,
      "flex": null,
      "flex_flow": null,
      "grid_area": null,
      "grid_auto_columns": null,
      "grid_auto_flow": null,
      "grid_auto_rows": null,
      "grid_column": null,
      "grid_gap": null,
      "grid_row": null,
      "grid_template_areas": null,
      "grid_template_columns": null,
      "grid_template_rows": null,
      "height": null,
      "justify_content": null,
      "justify_items": null,
      "left": null,
      "margin": null,
      "max_height": null,
      "max_width": null,
      "min_height": null,
      "min_width": null,
      "object_fit": null,
      "object_position": null,
      "order": null,
      "overflow": null,
      "overflow_x": null,
      "overflow_y": null,
      "padding": null,
      "right": null,
      "top": null,
      "visibility": null,
      "width": null
     }
    },
    "816d197e4c62426a99e565b4bb6de435": {
     "model_module": "@jupyter-widgets/controls",
     "model_module_version": "1.5.0",
     "model_name": "FloatProgressModel",
     "state": {
      "_dom_classes": [],
      "_model_module": "@jupyter-widgets/controls",
      "_model_module_version": "1.5.0",
      "_model_name": "FloatProgressModel",
      "_view_count": null,
      "_view_module": "@jupyter-widgets/controls",
      "_view_module_version": "1.5.0",
      "_view_name": "ProgressView",
      "bar_style": "info",
      "description": "",
      "description_tooltip": null,
      "layout": "IPY_MODEL_718d9323c54d4ff7a56c8e089397854a",
      "max": 1,
      "min": 0,
      "orientation": "horizontal",
      "style": "IPY_MODEL_9125f8073c10465b82a9037749687fbb",
      "value": 1
     }
    },
    "8299d1b110754eeeb57bc5d3da2e0503": {
     "model_module": "@jupyter-widgets/base",
     "model_module_version": "1.2.0",
     "model_name": "LayoutModel",
     "state": {
      "_model_module": "@jupyter-widgets/base",
      "_model_module_version": "1.2.0",
      "_model_name": "LayoutModel",
      "_view_count": null,
      "_view_module": "@jupyter-widgets/base",
      "_view_module_version": "1.2.0",
      "_view_name": "LayoutView",
      "align_content": null,
      "align_items": null,
      "align_self": null,
      "border": null,
      "bottom": null,
      "display": null,
      "flex": null,
      "flex_flow": null,
      "grid_area": null,
      "grid_auto_columns": null,
      "grid_auto_flow": null,
      "grid_auto_rows": null,
      "grid_column": null,
      "grid_gap": null,
      "grid_row": null,
      "grid_template_areas": null,
      "grid_template_columns": null,
      "grid_template_rows": null,
      "height": null,
      "justify_content": null,
      "justify_items": null,
      "left": null,
      "margin": null,
      "max_height": null,
      "max_width": null,
      "min_height": null,
      "min_width": null,
      "object_fit": null,
      "object_position": null,
      "order": null,
      "overflow": null,
      "overflow_x": null,
      "overflow_y": null,
      "padding": null,
      "right": null,
      "top": null,
      "visibility": null,
      "width": null
     }
    },
    "865b6edcaf2a492e95ef2028380ea3a5": {
     "model_module": "@jupyter-widgets/controls",
     "model_module_version": "1.5.0",
     "model_name": "HTMLModel",
     "state": {
      "_dom_classes": [],
      "_model_module": "@jupyter-widgets/controls",
      "_model_module_version": "1.5.0",
      "_model_name": "HTMLModel",
      "_view_count": null,
      "_view_module": "@jupyter-widgets/controls",
      "_view_module_version": "1.5.0",
      "_view_name": "HTMLView",
      "description": "",
      "description_tooltip": null,
      "layout": "IPY_MODEL_c9ecc237cf2940d8a5a3e8a2c285d317",
      "placeholder": "​",
      "style": "IPY_MODEL_1358a5635bfc4d3f9bc4ce32bf8f3f76",
      "value": " 4.51k/? [00:00&lt;00:00, 101kB/s]"
     }
    },
    "8acbdb46eba74bd2a2e158801e03b397": {
     "model_module": "@jupyter-widgets/base",
     "model_module_version": "1.2.0",
     "model_name": "LayoutModel",
     "state": {
      "_model_module": "@jupyter-widgets/base",
      "_model_module_version": "1.2.0",
      "_model_name": "LayoutModel",
      "_view_count": null,
      "_view_module": "@jupyter-widgets/base",
      "_view_module_version": "1.2.0",
      "_view_name": "LayoutView",
      "align_content": null,
      "align_items": null,
      "align_self": null,
      "border": null,
      "bottom": null,
      "display": null,
      "flex": null,
      "flex_flow": null,
      "grid_area": null,
      "grid_auto_columns": null,
      "grid_auto_flow": null,
      "grid_auto_rows": null,
      "grid_column": null,
      "grid_gap": null,
      "grid_row": null,
      "grid_template_areas": null,
      "grid_template_columns": null,
      "grid_template_rows": null,
      "height": null,
      "justify_content": null,
      "justify_items": null,
      "left": null,
      "margin": null,
      "max_height": null,
      "max_width": null,
      "min_height": null,
      "min_width": null,
      "object_fit": null,
      "object_position": null,
      "order": null,
      "overflow": null,
      "overflow_x": null,
      "overflow_y": null,
      "padding": null,
      "right": null,
      "top": null,
      "visibility": null,
      "width": null
     }
    },
    "8d8e26cca6b84b358324a6ae39c0cc4a": {
     "model_module": "@jupyter-widgets/base",
     "model_module_version": "1.2.0",
     "model_name": "LayoutModel",
     "state": {
      "_model_module": "@jupyter-widgets/base",
      "_model_module_version": "1.2.0",
      "_model_name": "LayoutModel",
      "_view_count": null,
      "_view_module": "@jupyter-widgets/base",
      "_view_module_version": "1.2.0",
      "_view_name": "LayoutView",
      "align_content": null,
      "align_items": null,
      "align_self": null,
      "border": null,
      "bottom": null,
      "display": null,
      "flex": null,
      "flex_flow": null,
      "grid_area": null,
      "grid_auto_columns": null,
      "grid_auto_flow": null,
      "grid_auto_rows": null,
      "grid_column": null,
      "grid_gap": null,
      "grid_row": null,
      "grid_template_areas": null,
      "grid_template_columns": null,
      "grid_template_rows": null,
      "height": null,
      "justify_content": null,
      "justify_items": null,
      "left": null,
      "margin": null,
      "max_height": null,
      "max_width": null,
      "min_height": null,
      "min_width": null,
      "object_fit": null,
      "object_position": null,
      "order": null,
      "overflow": null,
      "overflow_x": null,
      "overflow_y": null,
      "padding": null,
      "right": null,
      "top": null,
      "visibility": null,
      "width": null
     }
    },
    "9125f8073c10465b82a9037749687fbb": {
     "model_module": "@jupyter-widgets/controls",
     "model_module_version": "1.5.0",
     "model_name": "ProgressStyleModel",
     "state": {
      "_model_module": "@jupyter-widgets/controls",
      "_model_module_version": "1.5.0",
      "_model_name": "ProgressStyleModel",
      "_view_count": null,
      "_view_module": "@jupyter-widgets/base",
      "_view_module_version": "1.2.0",
      "_view_name": "StyleView",
      "bar_color": null,
      "description_width": ""
     }
    },
    "918cbdaf814b46b9b9f4c9e326919a3b": {
     "model_module": "@jupyter-widgets/base",
     "model_module_version": "1.2.0",
     "model_name": "LayoutModel",
     "state": {
      "_model_module": "@jupyter-widgets/base",
      "_model_module_version": "1.2.0",
      "_model_name": "LayoutModel",
      "_view_count": null,
      "_view_module": "@jupyter-widgets/base",
      "_view_module_version": "1.2.0",
      "_view_name": "LayoutView",
      "align_content": null,
      "align_items": null,
      "align_self": null,
      "border": null,
      "bottom": null,
      "display": null,
      "flex": null,
      "flex_flow": null,
      "grid_area": null,
      "grid_auto_columns": null,
      "grid_auto_flow": null,
      "grid_auto_rows": null,
      "grid_column": null,
      "grid_gap": null,
      "grid_row": null,
      "grid_template_areas": null,
      "grid_template_columns": null,
      "grid_template_rows": null,
      "height": null,
      "justify_content": null,
      "justify_items": null,
      "left": null,
      "margin": null,
      "max_height": null,
      "max_width": null,
      "min_height": null,
      "min_width": null,
      "object_fit": null,
      "object_position": null,
      "order": null,
      "overflow": null,
      "overflow_x": null,
      "overflow_y": null,
      "padding": null,
      "right": null,
      "top": null,
      "visibility": null,
      "width": null
     }
    },
    "93a32c3b5e9d44569776bb2ac164bfb6": {
     "model_module": "@jupyter-widgets/controls",
     "model_module_version": "1.5.0",
     "model_name": "HTMLModel",
     "state": {
      "_dom_classes": [],
      "_model_module": "@jupyter-widgets/controls",
      "_model_module_version": "1.5.0",
      "_model_name": "HTMLModel",
      "_view_count": null,
      "_view_module": "@jupyter-widgets/controls",
      "_view_module_version": "1.5.0",
      "_view_name": "HTMLView",
      "description": "",
      "description_tooltip": null,
      "layout": "IPY_MODEL_918cbdaf814b46b9b9f4c9e326919a3b",
      "placeholder": "​",
      "style": "IPY_MODEL_9a8c3722d60e416e86632babf3a150ec",
      "value": " 14/14 [00:29&lt;00:00,  1.62s/ba]"
     }
    },
    "93c7624688a84102839a9b2fd8a826ac": {
     "model_module": "@jupyter-widgets/controls",
     "model_module_version": "1.5.0",
     "model_name": "ProgressStyleModel",
     "state": {
      "_model_module": "@jupyter-widgets/controls",
      "_model_module_version": "1.5.0",
      "_model_name": "ProgressStyleModel",
      "_view_count": null,
      "_view_module": "@jupyter-widgets/base",
      "_view_module_version": "1.2.0",
      "_view_name": "StyleView",
      "bar_color": null,
      "description_width": ""
     }
    },
    "93ce9320bf574cf6b4d01741073df011": {
     "model_module": "@jupyter-widgets/controls",
     "model_module_version": "1.5.0",
     "model_name": "ProgressStyleModel",
     "state": {
      "_model_module": "@jupyter-widgets/controls",
      "_model_module_version": "1.5.0",
      "_model_name": "ProgressStyleModel",
      "_view_count": null,
      "_view_module": "@jupyter-widgets/base",
      "_view_module_version": "1.2.0",
      "_view_name": "StyleView",
      "bar_color": null,
      "description_width": ""
     }
    },
    "94a8d5d69da94310b6548b624d8cff1d": {
     "model_module": "@jupyter-widgets/controls",
     "model_module_version": "1.5.0",
     "model_name": "HTMLModel",
     "state": {
      "_dom_classes": [],
      "_model_module": "@jupyter-widgets/controls",
      "_model_module_version": "1.5.0",
      "_model_name": "HTMLModel",
      "_view_count": null,
      "_view_module": "@jupyter-widgets/controls",
      "_view_module_version": "1.5.0",
      "_view_name": "HTMLView",
      "description": "",
      "description_tooltip": null,
      "layout": "IPY_MODEL_7475a1437a3a4fc69c3f6f6f07e4ec75",
      "placeholder": "​",
      "style": "IPY_MODEL_3b18f23b807d4a7689beedd145a0d38d",
      "value": " 3.31k/? [00:00&lt;00:00, 70.1kB/s]"
     }
    },
    "969154b59a1b4811bd9d48bb4817f928": {
     "model_module": "@jupyter-widgets/controls",
     "model_module_version": "1.5.0",
     "model_name": "DescriptionStyleModel",
     "state": {
      "_model_module": "@jupyter-widgets/controls",
      "_model_module_version": "1.5.0",
      "_model_name": "DescriptionStyleModel",
      "_view_count": null,
      "_view_module": "@jupyter-widgets/base",
      "_view_module_version": "1.2.0",
      "_view_name": "StyleView",
      "description_width": ""
     }
    },
    "9a3b707c83d74094857bae5dea355f4c": {
     "model_module": "@jupyter-widgets/controls",
     "model_module_version": "1.5.0",
     "model_name": "FloatProgressModel",
     "state": {
      "_dom_classes": [],
      "_model_module": "@jupyter-widgets/controls",
      "_model_module_version": "1.5.0",
      "_model_name": "FloatProgressModel",
      "_view_count": null,
      "_view_module": "@jupyter-widgets/controls",
      "_view_module_version": "1.5.0",
      "_view_name": "ProgressView",
      "bar_style": "success",
      "description": "",
      "description_tooltip": null,
      "layout": "IPY_MODEL_632565d76d7b4ba5a7a699af4670b10e",
      "max": 14,
      "min": 0,
      "orientation": "horizontal",
      "style": "IPY_MODEL_93c7624688a84102839a9b2fd8a826ac",
      "value": 14
     }
    },
    "9a8c3722d60e416e86632babf3a150ec": {
     "model_module": "@jupyter-widgets/controls",
     "model_module_version": "1.5.0",
     "model_name": "DescriptionStyleModel",
     "state": {
      "_model_module": "@jupyter-widgets/controls",
      "_model_module_version": "1.5.0",
      "_model_name": "DescriptionStyleModel",
      "_view_count": null,
      "_view_module": "@jupyter-widgets/base",
      "_view_module_version": "1.2.0",
      "_view_name": "StyleView",
      "description_width": ""
     }
    },
    "9bfa1b655e9f47d9b9ae75c10741d671": {
     "model_module": "@jupyter-widgets/controls",
     "model_module_version": "1.5.0",
     "model_name": "HTMLModel",
     "state": {
      "_dom_classes": [],
      "_model_module": "@jupyter-widgets/controls",
      "_model_module_version": "1.5.0",
      "_model_name": "HTMLModel",
      "_view_count": null,
      "_view_module": "@jupyter-widgets/controls",
      "_view_module_version": "1.5.0",
      "_view_name": "HTMLView",
      "description": "",
      "description_tooltip": null,
      "layout": "IPY_MODEL_58a6fabaab3b44c4b875daecf641b0ce",
      "placeholder": "​",
      "style": "IPY_MODEL_4c96a361198f4821902084bfd54e3c79",
      "value": "100%"
     }
    },
    "9dcd758c6240463795936eebbb7802ae": {
     "model_module": "@jupyter-widgets/controls",
     "model_module_version": "1.5.0",
     "model_name": "ProgressStyleModel",
     "state": {
      "_model_module": "@jupyter-widgets/controls",
      "_model_module_version": "1.5.0",
      "_model_name": "ProgressStyleModel",
      "_view_count": null,
      "_view_module": "@jupyter-widgets/base",
      "_view_module_version": "1.2.0",
      "_view_name": "StyleView",
      "bar_color": null,
      "description_width": ""
     }
    },
    "a4e788cecad34a76a085439b7ffbf6c1": {
     "model_module": "@jupyter-widgets/controls",
     "model_module_version": "1.5.0",
     "model_name": "HTMLModel",
     "state": {
      "_dom_classes": [],
      "_model_module": "@jupyter-widgets/controls",
      "_model_module_version": "1.5.0",
      "_model_name": "HTMLModel",
      "_view_count": null,
      "_view_module": "@jupyter-widgets/controls",
      "_view_module_version": "1.5.0",
      "_view_name": "HTMLView",
      "description": "",
      "description_tooltip": null,
      "layout": "IPY_MODEL_c9418a9361a042479ac99bc2a8efcbbc",
      "placeholder": "​",
      "style": "IPY_MODEL_6509705d16fd4673bf7e63b5cc90f9f7",
      "value": " 14/14 [00:10&lt;00:00,  1.27ba/s]"
     }
    },
    "a843fb7f3baf4f8f813c20837fba9fc9": {
     "model_module": "@jupyter-widgets/controls",
     "model_module_version": "1.5.0",
     "model_name": "DescriptionStyleModel",
     "state": {
      "_model_module": "@jupyter-widgets/controls",
      "_model_module_version": "1.5.0",
      "_model_name": "DescriptionStyleModel",
      "_view_count": null,
      "_view_module": "@jupyter-widgets/base",
      "_view_module_version": "1.2.0",
      "_view_name": "StyleView",
      "description_width": ""
     }
    },
    "ab42aa7d9ca64a7c8a472aa4302c2152": {
     "model_module": "@jupyter-widgets/controls",
     "model_module_version": "1.5.0",
     "model_name": "HBoxModel",
     "state": {
      "_dom_classes": [],
      "_model_module": "@jupyter-widgets/controls",
      "_model_module_version": "1.5.0",
      "_model_name": "HBoxModel",
      "_view_count": null,
      "_view_module": "@jupyter-widgets/controls",
      "_view_module_version": "1.5.0",
      "_view_name": "HBoxView",
      "box_style": "",
      "children": [
       "IPY_MODEL_ddee5cb79d9b489b8247e727999d6a30",
       "IPY_MODEL_fe7919cedb394dba9e83710a4596581a",
       "IPY_MODEL_7be8bfdf531d4ea5ba3187b65a476727"
      ],
      "layout": "IPY_MODEL_0203b893d0284de69a442f67238fcd1a"
     }
    },
    "b886e3fbf74c4a04879373f42ca1a7b2": {
     "model_module": "@jupyter-widgets/controls",
     "model_module_version": "1.5.0",
     "model_name": "HTMLModel",
     "state": {
      "_dom_classes": [],
      "_model_module": "@jupyter-widgets/controls",
      "_model_module_version": "1.5.0",
      "_model_name": "HTMLModel",
      "_view_count": null,
      "_view_module": "@jupyter-widgets/controls",
      "_view_module_version": "1.5.0",
      "_view_name": "HTMLView",
      "description": "",
      "description_tooltip": null,
      "layout": "IPY_MODEL_e9fea97259c84c1ab1e87e35810b2ef8",
      "placeholder": "​",
      "style": "IPY_MODEL_969154b59a1b4811bd9d48bb4817f928",
      "value": "Downloading: "
     }
    },
    "beef4bd2c38b44f0ba2486001da2449d": {
     "model_module": "@jupyter-widgets/controls",
     "model_module_version": "1.5.0",
     "model_name": "HTMLModel",
     "state": {
      "_dom_classes": [],
      "_model_module": "@jupyter-widgets/controls",
      "_model_module_version": "1.5.0",
      "_model_name": "HTMLModel",
      "_view_count": null,
      "_view_module": "@jupyter-widgets/controls",
      "_view_module_version": "1.5.0",
      "_view_name": "HTMLView",
      "description": "",
      "description_tooltip": null,
      "layout": "IPY_MODEL_8299d1b110754eeeb57bc5d3da2e0503",
      "placeholder": "​",
      "style": "IPY_MODEL_d71bba2582464b59b35f55f901c6fc5c",
      "value": "100%"
     }
    },
    "c137e4d66e014b9eab4eb86c2809345d": {
     "model_module": "@jupyter-widgets/base",
     "model_module_version": "1.2.0",
     "model_name": "LayoutModel",
     "state": {
      "_model_module": "@jupyter-widgets/base",
      "_model_module_version": "1.2.0",
      "_model_name": "LayoutModel",
      "_view_count": null,
      "_view_module": "@jupyter-widgets/base",
      "_view_module_version": "1.2.0",
      "_view_name": "LayoutView",
      "align_content": null,
      "align_items": null,
      "align_self": null,
      "border": null,
      "bottom": null,
      "display": null,
      "flex": null,
      "flex_flow": null,
      "grid_area": null,
      "grid_auto_columns": null,
      "grid_auto_flow": null,
      "grid_auto_rows": null,
      "grid_column": null,
      "grid_gap": null,
      "grid_row": null,
      "grid_template_areas": null,
      "grid_template_columns": null,
      "grid_template_rows": null,
      "height": null,
      "justify_content": null,
      "justify_items": null,
      "left": null,
      "margin": null,
      "max_height": null,
      "max_width": null,
      "min_height": null,
      "min_width": null,
      "object_fit": null,
      "object_position": null,
      "order": null,
      "overflow": null,
      "overflow_x": null,
      "overflow_y": null,
      "padding": null,
      "right": null,
      "top": null,
      "visibility": null,
      "width": null
     }
    },
    "c9418a9361a042479ac99bc2a8efcbbc": {
     "model_module": "@jupyter-widgets/base",
     "model_module_version": "1.2.0",
     "model_name": "LayoutModel",
     "state": {
      "_model_module": "@jupyter-widgets/base",
      "_model_module_version": "1.2.0",
      "_model_name": "LayoutModel",
      "_view_count": null,
      "_view_module": "@jupyter-widgets/base",
      "_view_module_version": "1.2.0",
      "_view_name": "LayoutView",
      "align_content": null,
      "align_items": null,
      "align_self": null,
      "border": null,
      "bottom": null,
      "display": null,
      "flex": null,
      "flex_flow": null,
      "grid_area": null,
      "grid_auto_columns": null,
      "grid_auto_flow": null,
      "grid_auto_rows": null,
      "grid_column": null,
      "grid_gap": null,
      "grid_row": null,
      "grid_template_areas": null,
      "grid_template_columns": null,
      "grid_template_rows": null,
      "height": null,
      "justify_content": null,
      "justify_items": null,
      "left": null,
      "margin": null,
      "max_height": null,
      "max_width": null,
      "min_height": null,
      "min_width": null,
      "object_fit": null,
      "object_position": null,
      "order": null,
      "overflow": null,
      "overflow_x": null,
      "overflow_y": null,
      "padding": null,
      "right": null,
      "top": null,
      "visibility": null,
      "width": null
     }
    },
    "c9ecc237cf2940d8a5a3e8a2c285d317": {
     "model_module": "@jupyter-widgets/base",
     "model_module_version": "1.2.0",
     "model_name": "LayoutModel",
     "state": {
      "_model_module": "@jupyter-widgets/base",
      "_model_module_version": "1.2.0",
      "_model_name": "LayoutModel",
      "_view_count": null,
      "_view_module": "@jupyter-widgets/base",
      "_view_module_version": "1.2.0",
      "_view_name": "LayoutView",
      "align_content": null,
      "align_items": null,
      "align_self": null,
      "border": null,
      "bottom": null,
      "display": null,
      "flex": null,
      "flex_flow": null,
      "grid_area": null,
      "grid_auto_columns": null,
      "grid_auto_flow": null,
      "grid_auto_rows": null,
      "grid_column": null,
      "grid_gap": null,
      "grid_row": null,
      "grid_template_areas": null,
      "grid_template_columns": null,
      "grid_template_rows": null,
      "height": null,
      "justify_content": null,
      "justify_items": null,
      "left": null,
      "margin": null,
      "max_height": null,
      "max_width": null,
      "min_height": null,
      "min_width": null,
      "object_fit": null,
      "object_position": null,
      "order": null,
      "overflow": null,
      "overflow_x": null,
      "overflow_y": null,
      "padding": null,
      "right": null,
      "top": null,
      "visibility": null,
      "width": null
     }
    },
    "cfa6f4404a0f43ca9ab7549207edb6c0": {
     "model_module": "@jupyter-widgets/base",
     "model_module_version": "1.2.0",
     "model_name": "LayoutModel",
     "state": {
      "_model_module": "@jupyter-widgets/base",
      "_model_module_version": "1.2.0",
      "_model_name": "LayoutModel",
      "_view_count": null,
      "_view_module": "@jupyter-widgets/base",
      "_view_module_version": "1.2.0",
      "_view_name": "LayoutView",
      "align_content": null,
      "align_items": null,
      "align_self": null,
      "border": null,
      "bottom": null,
      "display": null,
      "flex": null,
      "flex_flow": null,
      "grid_area": null,
      "grid_auto_columns": null,
      "grid_auto_flow": null,
      "grid_auto_rows": null,
      "grid_column": null,
      "grid_gap": null,
      "grid_row": null,
      "grid_template_areas": null,
      "grid_template_columns": null,
      "grid_template_rows": null,
      "height": null,
      "justify_content": null,
      "justify_items": null,
      "left": null,
      "margin": null,
      "max_height": null,
      "max_width": null,
      "min_height": null,
      "min_width": null,
      "object_fit": null,
      "object_position": null,
      "order": null,
      "overflow": null,
      "overflow_x": null,
      "overflow_y": null,
      "padding": null,
      "right": null,
      "top": null,
      "visibility": null,
      "width": null
     }
    },
    "d5d8e20a58c748a1a154538e8d55ebcb": {
     "model_module": "@jupyter-widgets/controls",
     "model_module_version": "1.5.0",
     "model_name": "FloatProgressModel",
     "state": {
      "_dom_classes": [],
      "_model_module": "@jupyter-widgets/controls",
      "_model_module_version": "1.5.0",
      "_model_name": "FloatProgressModel",
      "_view_count": null,
      "_view_module": "@jupyter-widgets/controls",
      "_view_module_version": "1.5.0",
      "_view_name": "ProgressView",
      "bar_style": "success",
      "description": "",
      "description_tooltip": null,
      "layout": "IPY_MODEL_fe3ad071b95046639361cc28fae2d3ea",
      "max": 1119,
      "min": 0,
      "orientation": "horizontal",
      "style": "IPY_MODEL_93ce9320bf574cf6b4d01741073df011",
      "value": 1119
     }
    },
    "d71bba2582464b59b35f55f901c6fc5c": {
     "model_module": "@jupyter-widgets/controls",
     "model_module_version": "1.5.0",
     "model_name": "DescriptionStyleModel",
     "state": {
      "_model_module": "@jupyter-widgets/controls",
      "_model_module_version": "1.5.0",
      "_model_name": "DescriptionStyleModel",
      "_view_count": null,
      "_view_module": "@jupyter-widgets/base",
      "_view_module_version": "1.2.0",
      "_view_name": "StyleView",
      "description_width": ""
     }
    },
    "ddee5cb79d9b489b8247e727999d6a30": {
     "model_module": "@jupyter-widgets/controls",
     "model_module_version": "1.5.0",
     "model_name": "HTMLModel",
     "state": {
      "_dom_classes": [],
      "_model_module": "@jupyter-widgets/controls",
      "_model_module_version": "1.5.0",
      "_model_name": "HTMLModel",
      "_view_count": null,
      "_view_module": "@jupyter-widgets/controls",
      "_view_module_version": "1.5.0",
      "_view_name": "HTMLView",
      "description": "",
      "description_tooltip": null,
      "layout": "IPY_MODEL_0882757c46d144028fac2761b20857a7",
      "placeholder": "​",
      "style": "IPY_MODEL_4ca147c3d703424ebeba6fe157b80464",
      "value": "100%"
     }
    },
    "e099170211ec4be7ac597498f3921e0a": {
     "model_module": "@jupyter-widgets/controls",
     "model_module_version": "1.5.0",
     "model_name": "DescriptionStyleModel",
     "state": {
      "_model_module": "@jupyter-widgets/controls",
      "_model_module_version": "1.5.0",
      "_model_name": "DescriptionStyleModel",
      "_view_count": null,
      "_view_module": "@jupyter-widgets/base",
      "_view_module_version": "1.2.0",
      "_view_name": "StyleView",
      "description_width": ""
     }
    },
    "e6769218f29942aa9845775217623dda": {
     "model_module": "@jupyter-widgets/controls",
     "model_module_version": "1.5.0",
     "model_name": "HTMLModel",
     "state": {
      "_dom_classes": [],
      "_model_module": "@jupyter-widgets/controls",
      "_model_module_version": "1.5.0",
      "_model_name": "HTMLModel",
      "_view_count": null,
      "_view_module": "@jupyter-widgets/controls",
      "_view_module_version": "1.5.0",
      "_view_name": "HTMLView",
      "description": "",
      "description_tooltip": null,
      "layout": "IPY_MODEL_8acbdb46eba74bd2a2e158801e03b397",
      "placeholder": "​",
      "style": "IPY_MODEL_195010b7ae674471b85ce02d6eeae9b5",
      "value": ""
     }
    },
    "e9fea97259c84c1ab1e87e35810b2ef8": {
     "model_module": "@jupyter-widgets/base",
     "model_module_version": "1.2.0",
     "model_name": "LayoutModel",
     "state": {
      "_model_module": "@jupyter-widgets/base",
      "_model_module_version": "1.2.0",
      "_model_name": "LayoutModel",
      "_view_count": null,
      "_view_module": "@jupyter-widgets/base",
      "_view_module_version": "1.2.0",
      "_view_name": "LayoutView",
      "align_content": null,
      "align_items": null,
      "align_self": null,
      "border": null,
      "bottom": null,
      "display": null,
      "flex": null,
      "flex_flow": null,
      "grid_area": null,
      "grid_auto_columns": null,
      "grid_auto_flow": null,
      "grid_auto_rows": null,
      "grid_column": null,
      "grid_gap": null,
      "grid_row": null,
      "grid_template_areas": null,
      "grid_template_columns": null,
      "grid_template_rows": null,
      "height": null,
      "justify_content": null,
      "justify_items": null,
      "left": null,
      "margin": null,
      "max_height": null,
      "max_width": null,
      "min_height": null,
      "min_width": null,
      "object_fit": null,
      "object_position": null,
      "order": null,
      "overflow": null,
      "overflow_x": null,
      "overflow_y": null,
      "padding": null,
      "right": null,
      "top": null,
      "visibility": null,
      "width": null
     }
    },
    "f10c40841e6d42fd999a1f7a44242764": {
     "model_module": "@jupyter-widgets/controls",
     "model_module_version": "1.5.0",
     "model_name": "HBoxModel",
     "state": {
      "_dom_classes": [],
      "_model_module": "@jupyter-widgets/controls",
      "_model_module_version": "1.5.0",
      "_model_name": "HBoxModel",
      "_view_count": null,
      "_view_module": "@jupyter-widgets/controls",
      "_view_module_version": "1.5.0",
      "_view_name": "HBoxView",
      "box_style": "",
      "children": [
       "IPY_MODEL_4c5d2af9fe3046bd9f711a739aa4ba40",
       "IPY_MODEL_394c0621df0f4505b76f1e4538d9e0b5",
       "IPY_MODEL_865b6edcaf2a492e95ef2028380ea3a5"
      ],
      "layout": "IPY_MODEL_c137e4d66e014b9eab4eb86c2809345d"
     }
    },
    "f44f11d93aa2404b924b3f93c574304b": {
     "model_module": "@jupyter-widgets/controls",
     "model_module_version": "1.5.0",
     "model_name": "ProgressStyleModel",
     "state": {
      "_model_module": "@jupyter-widgets/controls",
      "_model_module_version": "1.5.0",
      "_model_name": "ProgressStyleModel",
      "_view_count": null,
      "_view_module": "@jupyter-widgets/base",
      "_view_module_version": "1.2.0",
      "_view_name": "StyleView",
      "bar_color": null,
      "description_width": ""
     }
    },
    "fe3ad071b95046639361cc28fae2d3ea": {
     "model_module": "@jupyter-widgets/base",
     "model_module_version": "1.2.0",
     "model_name": "LayoutModel",
     "state": {
      "_model_module": "@jupyter-widgets/base",
      "_model_module_version": "1.2.0",
      "_model_name": "LayoutModel",
      "_view_count": null,
      "_view_module": "@jupyter-widgets/base",
      "_view_module_version": "1.2.0",
      "_view_name": "LayoutView",
      "align_content": null,
      "align_items": null,
      "align_self": null,
      "border": null,
      "bottom": null,
      "display": null,
      "flex": null,
      "flex_flow": null,
      "grid_area": null,
      "grid_auto_columns": null,
      "grid_auto_flow": null,
      "grid_auto_rows": null,
      "grid_column": null,
      "grid_gap": null,
      "grid_row": null,
      "grid_template_areas": null,
      "grid_template_columns": null,
      "grid_template_rows": null,
      "height": null,
      "justify_content": null,
      "justify_items": null,
      "left": null,
      "margin": null,
      "max_height": null,
      "max_width": null,
      "min_height": null,
      "min_width": null,
      "object_fit": null,
      "object_position": null,
      "order": null,
      "overflow": null,
      "overflow_x": null,
      "overflow_y": null,
      "padding": null,
      "right": null,
      "top": null,
      "visibility": null,
      "width": null
     }
    },
    "fe7919cedb394dba9e83710a4596581a": {
     "model_module": "@jupyter-widgets/controls",
     "model_module_version": "1.5.0",
     "model_name": "FloatProgressModel",
     "state": {
      "_dom_classes": [],
      "_model_module": "@jupyter-widgets/controls",
      "_model_module_version": "1.5.0",
      "_model_name": "FloatProgressModel",
      "_view_count": null,
      "_view_module": "@jupyter-widgets/controls",
      "_view_module_version": "1.5.0",
      "_view_name": "ProgressView",
      "bar_style": "success",
      "description": "",
      "description_tooltip": null,
      "layout": "IPY_MODEL_47084d5a9f3644fea41aafa8a0bd4eb1",
      "max": 13048,
      "min": 0,
      "orientation": "horizontal",
      "style": "IPY_MODEL_f44f11d93aa2404b924b3f93c574304b",
      "value": 13048
     }
    }
   }
  }
 },
 "nbformat": 4,
 "nbformat_minor": 1
}
